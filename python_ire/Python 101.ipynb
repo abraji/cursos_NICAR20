{
 "cells": [
  {
   "cell_type": "markdown",
   "metadata": {},
   "source": []
  },
  {
   "cell_type": "markdown",
   "metadata": {},
   "source": [
    "# Python 101\n",
    "\n",
    "Este notebook demonstra algumas regras básicas de sintaxe da linguagem de programação Python. É um bloco de notas para experimentar, então aproveite! \n",
    "\n",
    "- [Using Jupyter notebooks](#Using-Jupyter-notebooks)\n",
    "- [Basic data types](#Basic-data-types)\n",
    "    - [Strings](#Strings)\n",
    "    - [Numbers and math](#Numbers-e-matemática)\n",
    "    - [Booleans](#Booleans)\n",
    "- [Variable assignment](#Atribuição-em-variáveis)\n",
    "- [String methods](#Métodos-para-string)\n",
    "- [Comments](#Comentários)\n",
    "- [The print() function](#A-função-print())\n",
    "- [Collections of data](#Coleções-de-dados)\n",
    "    - [Lists](#Listas)\n",
    "    - [Dictionaries](#Dicionários)\n",
    "- [`for` loops](#for-loops)\n",
    "- [`if` statements](#if-afirmações)"
   ]
  },
  {
   "cell_type": "markdown",
   "metadata": {},
   "source": [
    "### Uso do Jupyter notebooks\n",
    "\n",
    "Existem várias maneiras de escrever e executar o código Python no seu computador. Uma maneira - o método que estamos usando hoje - é usar [Jupyter notebooks](https://jupyter.org/), que são executados no seu navegador e permitem intercalar a documentação com o seu código. Eles são úteis para agrupar seu código com uma explicação legível por humanos do que está acontecendo em cada etapa. Confira alguns exemplos do [L.A. Times](https://github.com/datadesk/notebooks) e [BuzzFeed News](https://github.com/BuzzFeedNews/everything#data-and-analyses).\n",
    "\n",
    "**Para adicionar uma nova célula ao seu notebook**: Clique no botão + no menu.\n",
    "\n",
    "**Para executar uma célula de código**: Selecione a célula e clique no botão \"Executar\" no menu ou pressione Shift + Enter.\n",
    "\n",
    "**Uma pegadinha comum**: O notebook não \"sabe\" sobre o código que você escreveu até ter um _executar (run)_ a célula em que está o código. Por exemplo, se você definir uma variável chamada `my_name` em uma célula, e depois, quando você tenta acessar essa variável em outra célula, mas obtém um erro que diz `NameError: name 'my_name' is not defined`, a solução mais provável é executar (ou executar novamente) a célula na qual você definiu `my_name`."
   ]
  },
  {
   "cell_type": "markdown",
   "metadata": {},
   "source": [
    "### Basic data types\n",
    "Assim como o Excel e outros softwares de processamento de dados, o Python reconhece uma variedade de tipos de dados, incluindo três nos quais focaremos aqui:\n",
    "- Strings (texto)\n",
    "- Numbers (números inteiros, números com decimais e outros)\n",
    "- Booleans (`True` e `False`).\n",
    "\n",
    "Você pode usar a função [`type()`](https://docs.python.org/3/library/functions.html#type) para verificar o tipo de dados de um valor."
   ]
  },
  {
   "cell_type": "markdown",
   "metadata": {},
   "source": [
    "#### Strings\n",
    "\n",
    "Uma string é um grupo de caracteres -- letras, números, o que que seja -- entre aspas simples ou duplas (não importa, desde que correspondam). O código desse notebook usa aspas simples. (O guia de estilo do Python não recomenda um sobre o outro:[\"Pick a rule and stick to it.\"](https://www.python.org/dev/peps/pep-0008/#string-quotes))\n",
    "\n",
    "Se a sua string _contém_ apóstrofos ou aspas, você tem duas opções: _Fuja_ do personagem indesejado com uma barra `\\`:\n",
    "\n",
    "```python\n",
    "'Isn\\'t it nice here?'\n",
    "```\n",
    "\n",
    "... ou altere a pontuação ao redor:\n",
    "\n",
    "```python\n",
    "\"Isn't it nice here?\"\n",
    "```\n",
    "\n",
    "O guia de estilo recomenda o último sobre o anterior.\n",
    "\n",
    "Quando você chama a função `type()` em uma string, Python vai retornar `str`.\n",
    "\n",
    "Chamar a função [`str()`](https://docs.python.org/3/library/stdtypes.html#str) em um valor retornará a versão da string desse valor (veja exemplos abaixo)."
   ]
  },
  {
   "cell_type": "code",
   "execution_count": 2,
   "metadata": {},
   "outputs": [
    {
     "data": {
      "text/plain": [
       "'Investigative Reporters and Editors'"
      ]
     },
     "execution_count": 2,
     "metadata": {},
     "output_type": "execute_result"
    }
   ],
   "source": [
    "'Investigative Reporters and Editors'"
   ]
  },
  {
   "cell_type": "code",
   "execution_count": 3,
   "metadata": {},
   "outputs": [
    {
     "data": {
      "text/plain": [
       "str"
      ]
     },
     "execution_count": 3,
     "metadata": {},
     "output_type": "execute_result"
    }
   ],
   "source": [
    "type('hello!')"
   ]
  },
  {
   "cell_type": "code",
   "execution_count": 4,
   "metadata": {},
   "outputs": [
    {
     "data": {
      "text/plain": [
       "45"
      ]
     },
     "execution_count": 4,
     "metadata": {},
     "output_type": "execute_result"
    }
   ],
   "source": [
    "45"
   ]
  },
  {
   "cell_type": "code",
   "execution_count": 5,
   "metadata": {},
   "outputs": [
    {
     "data": {
      "text/plain": [
       "int"
      ]
     },
     "execution_count": 5,
     "metadata": {},
     "output_type": "execute_result"
    }
   ],
   "source": [
    "type(45)"
   ]
  },
  {
   "cell_type": "code",
   "execution_count": 6,
   "metadata": {},
   "outputs": [
    {
     "data": {
      "text/plain": [
       "'45'"
      ]
     },
     "execution_count": 6,
     "metadata": {},
     "output_type": "execute_result"
    }
   ],
   "source": [
    "str(45)"
   ]
  },
  {
   "cell_type": "code",
   "execution_count": 7,
   "metadata": {},
   "outputs": [
    {
     "data": {
      "text/plain": [
       "str"
      ]
     },
     "execution_count": 7,
     "metadata": {},
     "output_type": "execute_result"
    }
   ],
   "source": [
    "type(str(45))"
   ]
  },
  {
   "cell_type": "markdown",
   "metadata": {},
   "source": [
    "Se você \"adicionar\" cadeias de caracteres junto com um sinal de adição `+`, isso vai concatenar:"
   ]
  },
  {
   "cell_type": "code",
   "execution_count": 8,
   "metadata": {},
   "outputs": [
    {
     "data": {
      "text/plain": [
       "'IRE/NICAR'"
      ]
     },
     "execution_count": 8,
     "metadata": {},
     "output_type": "execute_result"
    }
   ],
   "source": [
    "'IRE' + '/' + 'NICAR'"
   ]
  },
  {
   "cell_type": "markdown",
   "metadata": {},
   "source": [
    "### ✍️ Faça você mesmo\n",
    "\n",
    "Use os blocos de código abaixo para experimentar as strings: criando-as, verificando o tipo e concatenando os valores."
   ]
  },
  {
   "cell_type": "code",
   "execution_count": null,
   "metadata": {},
   "outputs": [],
   "source": []
  },
  {
   "cell_type": "code",
   "execution_count": null,
   "metadata": {},
   "outputs": [],
   "source": []
  },
  {
   "cell_type": "code",
   "execution_count": null,
   "metadata": {},
   "outputs": [],
   "source": []
  },
  {
   "cell_type": "markdown",
   "metadata": {},
   "source": [
    "#### Numbers e matemática\n",
    "\n",
    "Python reconhece uma variedade de tipos de dados numéricos. Dois dos mais comuns são números inteiros (números inteiros) e flutuantes (float) (números com decimais).\n",
    "\n",
    "Ao chamar `int()` em um pedaço de dados numéricos (mesmo que esteja sendo armazenado como uma string) tentará coagi-lo a um número inteiro; ao chamar `float()` tentará convertê-lo em um float.\n",
    "\n",
    "Detalhe: o Python usa o ponto (.) como separador decimal. E para separar milhares usa a vírgula (,)"
   ]
  },
  {
   "cell_type": "code",
   "execution_count": 17,
   "metadata": {},
   "outputs": [
    {
     "data": {
      "text/plain": [
       "int"
      ]
     },
     "execution_count": 17,
     "metadata": {},
     "output_type": "execute_result"
    }
   ],
   "source": [
    "type(12)"
   ]
  },
  {
   "cell_type": "code",
   "execution_count": null,
   "metadata": {},
   "outputs": [],
   "source": [
    "type(12.4)"
   ]
  },
  {
   "cell_type": "code",
   "execution_count": null,
   "metadata": {},
   "outputs": [],
   "source": [
    "int(35.6)"
   ]
  },
  {
   "cell_type": "code",
   "execution_count": null,
   "metadata": {},
   "outputs": [],
   "source": [
    "int('45')"
   ]
  },
  {
   "cell_type": "code",
   "execution_count": null,
   "metadata": {},
   "outputs": [],
   "source": [
    "float(46)"
   ]
  },
  {
   "cell_type": "code",
   "execution_count": null,
   "metadata": {},
   "outputs": [],
   "source": [
    "float('45')"
   ]
  },
  {
   "cell_type": "markdown",
   "metadata": {},
   "source": [
    "Você pode fazer [matemática básica](https://www.digitalocean.com/community/tutorials/how-to-do-math-in-python-3-with-operators) no Python. E também pode fazer [matemática mais avançada](https://docs.python.org/3/library/math.html)."
   ]
  },
  {
   "cell_type": "code",
   "execution_count": null,
   "metadata": {},
   "outputs": [],
   "source": [
    "4+2"
   ]
  },
  {
   "cell_type": "code",
   "execution_count": null,
   "metadata": {},
   "outputs": [],
   "source": [
    "10-9"
   ]
  },
  {
   "cell_type": "code",
   "execution_count": null,
   "metadata": {},
   "outputs": [],
   "source": [
    "5*10"
   ]
  },
  {
   "cell_type": "code",
   "execution_count": null,
   "metadata": {},
   "outputs": [],
   "source": [
    "1000/10"
   ]
  },
  {
   "cell_type": "code",
   "execution_count": null,
   "metadata": {},
   "outputs": [],
   "source": [
    "# ** aumenta um número à potência de outro número\n",
    "5**2"
   ]
  },
  {
   "cell_type": "markdown",
   "metadata": {},
   "source": [
    "### ✍️ Faça você mesmo\n",
    "\n",
    "Use os blocos de código abaixo para experimentar com números: criando-os, verificando o tipo, fazendo matemática básica. Veja se você pode encontrar outras funções Python para trabalhar com números."
   ]
  },
  {
   "cell_type": "code",
   "execution_count": null,
   "metadata": {},
   "outputs": [],
   "source": []
  },
  {
   "cell_type": "code",
   "execution_count": null,
   "metadata": {},
   "outputs": [],
   "source": []
  },
  {
   "cell_type": "code",
   "execution_count": null,
   "metadata": {},
   "outputs": [],
   "source": []
  },
  {
   "cell_type": "code",
   "execution_count": null,
   "metadata": {},
   "outputs": [],
   "source": []
  },
  {
   "cell_type": "markdown",
   "metadata": {},
   "source": [
    "#### Booleans\n",
    "\n",
    "Assim como no Excel, que possui `TRUE` e `FALSE` para tipos de dados, Python possui tipos de dados booleanos. Eles são `True` e `False` -- observe que apenas a primeira letra é maiúscula e elas não são colocadas entre aspas.\n",
    "\n",
    "Valores booleanos geralmente são retornados quando você está avaliando algum tipo de declaração condicional -- comparing values, checking to see if a string is inside another string or if a value is in a list etc.\n",
    "\n",
    "[Operadores de comparação do Python](https://docs.python.org/3/reference/expressions.html#comparisons) incluem:\n",
    "\n",
    "- `>` maior que\n",
    "- `<` menor que\n",
    "- `>=` maior do que ou igual a\n",
    "- `<=` menor que ou igual a\n",
    "- `==` igual a\n",
    "- `!=` não é igual a"
   ]
  },
  {
   "cell_type": "code",
   "execution_count": null,
   "metadata": {},
   "outputs": [],
   "source": [
    "4 > 6"
   ]
  },
  {
   "cell_type": "code",
   "execution_count": null,
   "metadata": {},
   "outputs": [],
   "source": [
    "10 == 10"
   ]
  },
  {
   "cell_type": "code",
   "execution_count": null,
   "metadata": {},
   "outputs": [],
   "source": [
    "'IRE' == 'ire'"
   ]
  },
  {
   "cell_type": "code",
   "execution_count": null,
   "metadata": {},
   "outputs": [],
   "source": [
    "type(True)"
   ]
  },
  {
   "cell_type": "markdown",
   "metadata": {},
   "source": [
    "### ✍️ Faça você mesmo\n",
    "\n",
    "Use os blocos de código abaixo para experimentar booleanos: criando-os, verificando o tipo, avaliando o resultado de uma instrução condicional etc."
   ]
  },
  {
   "cell_type": "code",
   "execution_count": null,
   "metadata": {},
   "outputs": [],
   "source": []
  },
  {
   "cell_type": "code",
   "execution_count": null,
   "metadata": {},
   "outputs": [],
   "source": []
  },
  {
   "cell_type": "code",
   "execution_count": null,
   "metadata": {},
   "outputs": [],
   "source": []
  },
  {
   "cell_type": "code",
   "execution_count": null,
   "metadata": {},
   "outputs": [],
   "source": []
  },
  {
   "cell_type": "markdown",
   "metadata": {},
   "source": [
    "### Atribuição em variáveis\n",
    "\n",
    "O sinal `=` atribui um valor a uma variável que você escolheu o nome. Posteriormente, você pode recuperar esse valor referenciando seu nome de variável. Nomes de variáveis podem ser praticamente qualquer coisa que você quiser ([desde que você siga algumas regras básicas](https://thehelloworldprogram.com/python/python-variable-assignment-statements-rules-conventions-naming/)).\n",
    "\n",
    "Este pode ser um conceito complicado a princípio! Para mais detalhes, [aqui está uma boa explicação da Digital Ocean](https://www.digitalocean.com/community/tutorials/how-to-use-variables-in-python-3)."
   ]
  },
  {
   "cell_type": "code",
   "execution_count": null,
   "metadata": {},
   "outputs": [],
   "source": [
    "my_name = 'Frank'"
   ]
  },
  {
   "cell_type": "code",
   "execution_count": null,
   "metadata": {},
   "outputs": [],
   "source": [
    "my_name"
   ]
  },
  {
   "cell_type": "markdown",
   "metadata": {},
   "source": [
    "Você pode também _reatribuir_ um valor diferente para uma mesma variável, embora geralmente seja uma prática recomendada criar uma nova variável."
   ]
  },
  {
   "cell_type": "code",
   "execution_count": null,
   "metadata": {},
   "outputs": [],
   "source": [
    "my_name = 'Susan'"
   ]
  },
  {
   "cell_type": "code",
   "execution_count": null,
   "metadata": {},
   "outputs": [],
   "source": [
    "my_name"
   ]
  },
  {
   "cell_type": "markdown",
   "metadata": {},
   "source": [
    "Uma coisa comum a se fazer é \"salvar\" os resultados de uma expressão atribuindo o resultado a uma variável."
   ]
  },
  {
   "cell_type": "code",
   "execution_count": null,
   "metadata": {},
   "outputs": [],
   "source": [
    "my_fav_number = 10 + 3"
   ]
  },
  {
   "cell_type": "code",
   "execution_count": null,
   "metadata": {},
   "outputs": [],
   "source": [
    "my_fav_number"
   ]
  },
  {
   "cell_type": "markdown",
   "metadata": {},
   "source": [
    "Também é comum se referir a variáveis definidas anteriormente em uma expressão:"
   ]
  },
  {
   "cell_type": "code",
   "execution_count": null,
   "metadata": {},
   "outputs": [],
   "source": [
    "nfl_teams = 32\n",
    "mlb_teams = 30\n",
    "nba_teams = 30\n",
    "nhl_teams = 31\n",
    "\n",
    "number_of_pro_sports_teams = nfl_teams + mlb_teams + nba_teams + nhl_teams"
   ]
  },
  {
   "cell_type": "code",
   "execution_count": null,
   "metadata": {},
   "outputs": [],
   "source": [
    "number_of_pro_sports_teams"
   ]
  },
  {
   "cell_type": "markdown",
   "metadata": {},
   "source": [
    "### ✍️ Faça você mesmo\n",
    "\n",
    "Use os blocos de código abaixo para experimentar a atribuição de variáveis."
   ]
  },
  {
   "cell_type": "code",
   "execution_count": null,
   "metadata": {},
   "outputs": [],
   "source": []
  },
  {
   "cell_type": "code",
   "execution_count": null,
   "metadata": {},
   "outputs": [],
   "source": []
  },
  {
   "cell_type": "code",
   "execution_count": null,
   "metadata": {},
   "outputs": [],
   "source": []
  },
  {
   "cell_type": "code",
   "execution_count": null,
   "metadata": {},
   "outputs": [],
   "source": []
  },
  {
   "cell_type": "markdown",
   "metadata": {},
   "source": [
    "### Métodos para string \n",
    "\n",
    "Vamos voltar às strings por um segundo. Os objetos string têm vários [métodos](https://docs.python.org/3/library/stdtypes.html#string-methods) -- vamos usar uma sequência de exemplo para demonstrar alguns comuns."
   ]
  },
  {
   "cell_type": "code",
   "execution_count": 10,
   "metadata": {},
   "outputs": [],
   "source": [
    "my_cool_string = '    Hello, friends!'"
   ]
  },
  {
   "cell_type": "markdown",
   "metadata": {},
   "source": [
    "`upper()` converte a string em maiúsculas (veja também `lower()`, `title()` e `casefold()`):"
   ]
  },
  {
   "cell_type": "code",
   "execution_count": 12,
   "metadata": {},
   "outputs": [
    {
     "data": {
      "text/plain": [
       "'    HELLO, FRIENDS!'"
      ]
     },
     "execution_count": 12,
     "metadata": {},
     "output_type": "execute_result"
    }
   ],
   "source": [
    "my_cool_string.upper()"
   ]
  },
  {
   "cell_type": "markdown",
   "metadata": {},
   "source": [
    "`replace()` substituirá um pedaço de texto por outro texto que você especificar:"
   ]
  },
  {
   "cell_type": "code",
   "execution_count": null,
   "metadata": {},
   "outputs": [],
   "source": [
    "my_cool_string.replace('friends', 'enemies')"
   ]
  },
  {
   "cell_type": "markdown",
   "metadata": {},
   "source": [
    "[`split()`](https://docs.python.org/3/library/stdtypes.html#str.split) vai dividir a string em uma [_lista_](#Lists) (mais sobre daqui a pouco) em um determinado delimitador (se você não especificar um delimitador, o padrão será dividir a partir de espaço):"
   ]
  },
  {
   "cell_type": "code",
   "execution_count": 5,
   "metadata": {},
   "outputs": [
    {
     "data": {
      "text/plain": [
       "['Hello,', 'friends!']"
      ]
     },
     "execution_count": 5,
     "metadata": {},
     "output_type": "execute_result"
    }
   ],
   "source": [
    "my_cool_string.split()"
   ]
  },
  {
   "cell_type": "code",
   "execution_count": 6,
   "metadata": {},
   "outputs": [
    {
     "data": {
      "text/plain": [
       "['    Hello', ' friends!']"
      ]
     },
     "execution_count": 6,
     "metadata": {},
     "output_type": "execute_result"
    }
   ],
   "source": [
    "my_cool_string.split(',')"
   ]
  },
  {
   "cell_type": "code",
   "execution_count": 7,
   "metadata": {},
   "outputs": [
    {
     "data": {
      "text/plain": [
       "['    Hello, ', '!']"
      ]
     },
     "execution_count": 7,
     "metadata": {},
     "output_type": "execute_result"
    }
   ],
   "source": [
    "my_cool_string.split('friends')"
   ]
  },
  {
   "cell_type": "markdown",
   "metadata": {},
   "source": [
    "`strip()` remove o espaço em branco de ambos os lados da string (mas não o espaço em branco interno):"
   ]
  },
  {
   "cell_type": "code",
   "execution_count": null,
   "metadata": {},
   "outputs": [],
   "source": [
    "my_cool_string.strip()"
   ]
  },
  {
   "cell_type": "markdown",
   "metadata": {},
   "source": [
    "Você pode usar uma coisa interessante chamada \"encadeamento de métodos\" para combinar métodos - basta prendê-los até o final. Digamos que queríamos retirar o espaço em branco da nossa string _e_ torná-la maiúscula:"
   ]
  },
  {
   "cell_type": "code",
   "execution_count": null,
   "metadata": {},
   "outputs": [],
   "source": [
    "my_cool_string.strip().upper()"
   ]
  },
  {
   "cell_type": "markdown",
   "metadata": {},
   "source": [
    "Observe, no entanto, que nossa string original é inalterada:"
   ]
  },
  {
   "cell_type": "code",
   "execution_count": null,
   "metadata": {},
   "outputs": [],
   "source": [
    "my_cool_string"
   ]
  },
  {
   "cell_type": "markdown",
   "metadata": {},
   "source": [
    "Por quê? Porque não atribuímos os resultados de nada que fizemos a uma variável. Uma coisa comum a se fazer, especialmente quando você está limpando dados, seria atribuir os resultados a uma nova variável:"
   ]
  },
  {
   "cell_type": "code",
   "execution_count": null,
   "metadata": {},
   "outputs": [],
   "source": [
    "my_cool_string_clean = my_cool_string.strip().upper()"
   ]
  },
  {
   "cell_type": "code",
   "execution_count": null,
   "metadata": {},
   "outputs": [],
   "source": [
    "my_cool_string_clean"
   ]
  },
  {
   "cell_type": "markdown",
   "metadata": {},
   "source": [
    "### ✍️ Faça você mesmo\n",
    "\n",
    "Use os blocos de código abaixo para experimentar as funções de string."
   ]
  },
  {
   "cell_type": "code",
   "execution_count": null,
   "metadata": {},
   "outputs": [],
   "source": []
  },
  {
   "cell_type": "code",
   "execution_count": null,
   "metadata": {},
   "outputs": [],
   "source": []
  },
  {
   "cell_type": "code",
   "execution_count": null,
   "metadata": {},
   "outputs": [],
   "source": []
  },
  {
   "cell_type": "code",
   "execution_count": null,
   "metadata": {},
   "outputs": [],
   "source": []
  },
  {
   "cell_type": "markdown",
   "metadata": {},
   "source": [
    "### Comentários\n",
    "Uma linha com um comentário - uma nota que você não deseja que o Python interprete - começa com um sinal de `#`. Essas são notas para os colaboradores e para o seu futuro sobre o que está acontecendo neste momento do seu script e por quê.\n",
    "\n",
    "Normalmente, você coloca isso na linha logo acima da linha de código que está comentando:"
   ]
  },
  {
   "cell_type": "code",
   "execution_count": null,
   "metadata": {},
   "outputs": [],
   "source": [
    "avg_settlement = 40827348.34328237\n",
    "\n",
    "# forçando isso a um int porque não precisamos de precisão decimal\n",
    "int(avg_settlement)"
   ]
  },
  {
   "cell_type": "markdown",
   "metadata": {},
   "source": [
    "Os comentários de várias linhas são colocados entre aspas triplas (ou apóstrofos triplos):\n",
    "\n",
    "`'''\n",
    "this\n",
    "is a long\n",
    "comment\n",
    "'''`\n",
    "\n",
    "or\n",
    "\n",
    "`\"\"\"\n",
    "this\n",
    "is a long\n",
    "comment\n",
    "\"\"\"`"
   ]
  },
  {
   "cell_type": "markdown",
   "metadata": {},
   "source": [
    "### A função `print()` \n",
    "\n",
    "Até agora, apenas rodamos as células do notebook para obter o último valor retornado pelo código que escrevemos. Usar a função [`print()`](https://docs.python.org/3/library/functions.html#print) é uma maneira de imprimir coisas específicas no seu script na tela. Esta função é útil para depuração.\n",
    "\n",
    "Para imprimir várias coisas na mesma linha, separe-as com uma vírgula."
   ]
  },
  {
   "cell_type": "code",
   "execution_count": null,
   "metadata": {},
   "outputs": [],
   "source": [
    "print('Hello!')"
   ]
  },
  {
   "cell_type": "code",
   "execution_count": null,
   "metadata": {},
   "outputs": [],
   "source": [
    "print(my_name)"
   ]
  },
  {
   "cell_type": "code",
   "execution_count": null,
   "metadata": {},
   "outputs": [],
   "source": [
    "print('Hello,', my_name)"
   ]
  },
  {
   "cell_type": "markdown",
   "metadata": {},
   "source": [
    "## Coleções de dados\n",
    "\n",
    "Agora, falaremos sobre duas maneiras de usar o Python para agrupar dados em uma coleção: listas e dicionários."
   ]
  },
  {
   "cell_type": "markdown",
   "metadata": {},
   "source": [
    "### Listas\n",
    "\n",
    "Uma _lista_ é uma lista separada por vírgula de itens entre colchetes: `[]`.\n",
    "\n",
    "Aqui está uma lista de ingredientes, cada um uma sequência, que juntos formam uma receita de salsa."
   ]
  },
  {
   "cell_type": "code",
   "execution_count": 14,
   "metadata": {},
   "outputs": [],
   "source": [
    "salsa_ingredients = ['tomato', 'onion', 'jalapeño', 'lime', 'cilantro']"
   ]
  },
  {
   "cell_type": "markdown",
   "metadata": {},
   "source": [
    "Para obter um item de uma lista, consulte sua posição numérica na lista - seu _índice_ (1, 2, 3 etc.) -- entre colchetes imediatamente após sua referência a essa lista. No Python, como em muitas outras linguagens de programação, a contagem começa em 0. Isso significa que o primeiro item da lista é o item `0`."
   ]
  },
  {
   "cell_type": "code",
   "execution_count": null,
   "metadata": {},
   "outputs": [],
   "source": [
    "salsa_ingredients[0]"
   ]
  },
  {
   "cell_type": "code",
   "execution_count": null,
   "metadata": {},
   "outputs": [],
   "source": [
    "salsa_ingredients[1]"
   ]
  },
  {
   "cell_type": "markdown",
   "metadata": {},
   "source": [
    "Você pode usar _negative indexing_ para pegar coisas do lado direito da lista -- e de fato, `[-1]` é uma maneira comum para obter \"o último item de uma lista\" quando não está claro quantos itens estão na sua lista."
   ]
  },
  {
   "cell_type": "code",
   "execution_count": null,
   "metadata": {},
   "outputs": [],
   "source": [
    "salsa_ingredients[-1]"
   ]
  },
  {
   "cell_type": "markdown",
   "metadata": {},
   "source": [
    "Se você deseja obter uma fatia de vários itens da sua lista, use dois pontos (como no Excel, mais ou menos!).\n",
    "\n",
    "Se você deseja obter os três primeiros itens, faça o seguinte:"
   ]
  },
  {
   "cell_type": "code",
   "execution_count": null,
   "metadata": {},
   "outputs": [],
   "source": [
    "salsa_ingredients[0:3]"
   ]
  },
  {
   "cell_type": "markdown",
   "metadata": {},
   "source": [
    "Você também pode deixar o 0 inicial de fora - quando você deixa de fora o primeiro número, o Python assume como \"o primeiro item da lista\". Da mesma forma, se você deixar o último número, o Python assumirá o padrão \"o último item da lista\"."
   ]
  },
  {
   "cell_type": "code",
   "execution_count": null,
   "metadata": {},
   "outputs": [],
   "source": [
    "salsa_ingredients[:3]"
   ]
  },
  {
   "cell_type": "markdown",
   "metadata": {},
   "source": [
    "Observe também que esta fatia está nos fornecendo os itens 0, 1 e 2. O `3` em nossa fatia é o primeiro item que _não_ queremos. Isso pode ser meio confuso no começo. Vamos tentar mais alguns:"
   ]
  },
  {
   "cell_type": "code",
   "execution_count": null,
   "metadata": {},
   "outputs": [],
   "source": [
    "# tudo na lista, exceto o primeiro item\n",
    "salsa_ingredients[1:]"
   ]
  },
  {
   "cell_type": "code",
   "execution_count": null,
   "metadata": {},
   "outputs": [],
   "source": [
    "# o segundo, terceiro e quarto itens\n",
    "salsa_ingredients[1:4]"
   ]
  },
  {
   "cell_type": "code",
   "execution_count": null,
   "metadata": {},
   "outputs": [],
   "source": [
    "# os dois últimos itens\n",
    "salsa_ingredients[-2:]"
   ]
  },
  {
   "cell_type": "markdown",
   "metadata": {},
   "source": [
    "Para ver quantos itens estão em uma lista, use a função `len()`:"
   ]
  },
  {
   "cell_type": "code",
   "execution_count": null,
   "metadata": {},
   "outputs": [],
   "source": [
    "len(salsa_ingredients)"
   ]
  },
  {
   "cell_type": "markdown",
   "metadata": {},
   "source": [
    "Para adicionar um item a uma lista, use o método [`append()`](https://docs.python.org/3/tutorial/datastructures.html#more-on-lists):"
   ]
  },
  {
   "cell_type": "code",
   "execution_count": null,
   "metadata": {},
   "outputs": [],
   "source": [
    "salsa_ingredients"
   ]
  },
  {
   "cell_type": "code",
   "execution_count": null,
   "metadata": {},
   "outputs": [],
   "source": [
    "salsa_ingredients.append('mayonnaise')"
   ]
  },
  {
   "cell_type": "code",
   "execution_count": null,
   "metadata": {},
   "outputs": [],
   "source": [
    "salsa_ingredients"
   ]
  },
  {
   "cell_type": "markdown",
   "metadata": {},
   "source": [
    "Haha _não quero_. Para remover um item de uma lista, use o método`pop()`. Se você não especificar o número do índice do item que deseja exibir, o padrão será \"o último item\"."
   ]
  },
  {
   "cell_type": "code",
   "execution_count": null,
   "metadata": {},
   "outputs": [],
   "source": [
    "salsa_ingredients.pop()"
   ]
  },
  {
   "cell_type": "code",
   "execution_count": null,
   "metadata": {
    "scrolled": true
   },
   "outputs": [],
   "source": [
    "salsa_ingredients"
   ]
  },
  {
   "cell_type": "markdown",
   "metadata": {},
   "source": [
    "Você pode usar as expressões [`in` e `not in`](https://docs.python.org/3/reference/expressions.html#membership-test-operations) para testar a associação em uma lista (retornará um booleano):"
   ]
  },
  {
   "cell_type": "code",
   "execution_count": null,
   "metadata": {},
   "outputs": [],
   "source": [
    "'lime' in salsa_ingredients"
   ]
  },
  {
   "cell_type": "code",
   "execution_count": null,
   "metadata": {},
   "outputs": [],
   "source": [
    "'cilantro' not in salsa_ingredients"
   ]
  },
  {
   "cell_type": "markdown",
   "metadata": {},
   "source": [
    "### ✍️ Faça você mesmo\n",
    "\n",
    "Use os blocos de código abaixo para experimentar as listas."
   ]
  },
  {
   "cell_type": "code",
   "execution_count": null,
   "metadata": {},
   "outputs": [],
   "source": []
  },
  {
   "cell_type": "code",
   "execution_count": null,
   "metadata": {},
   "outputs": [],
   "source": []
  },
  {
   "cell_type": "code",
   "execution_count": null,
   "metadata": {},
   "outputs": [],
   "source": []
  },
  {
   "cell_type": "code",
   "execution_count": null,
   "metadata": {},
   "outputs": [],
   "source": []
  },
  {
   "cell_type": "code",
   "execution_count": null,
   "metadata": {},
   "outputs": [],
   "source": []
  },
  {
   "cell_type": "code",
   "execution_count": null,
   "metadata": {},
   "outputs": [],
   "source": []
  },
  {
   "cell_type": "markdown",
   "metadata": {},
   "source": [
    "### Dicionários\n",
    "\n",
    "Um _dicionário_ é uma lista separada por vírgulas de pares de chave/valor entre colchetes: `{}`. Vamos fazer uma receita de salsa inteira:"
   ]
  },
  {
   "cell_type": "code",
   "execution_count": 15,
   "metadata": {},
   "outputs": [],
   "source": [
    "salsa = {\n",
    "    'ingredients': salsa_ingredients,\n",
    "    'instructions': 'Chop up all the ingredients and cook them for awhile.',\n",
    "    'oz_made': 12\n",
    "}"
   ]
  },
  {
   "cell_type": "markdown",
   "metadata": {},
   "source": [
    "Para recuperar um valor de um dicionário, consulte o nome de sua chave entre colchetes `[]` imediatamente após sua referência ao dicionário:"
   ]
  },
  {
   "cell_type": "code",
   "execution_count": null,
   "metadata": {},
   "outputs": [],
   "source": [
    "salsa['oz_made']"
   ]
  },
  {
   "cell_type": "code",
   "execution_count": null,
   "metadata": {},
   "outputs": [],
   "source": [
    "salsa['ingredients']"
   ]
  },
  {
   "cell_type": "markdown",
   "metadata": {},
   "source": [
    "Para adicionar um novo par de chave/valor a um dicionário, atribua uma nova chave ao dicionário entre colchetes e defina o valor dessa chave com `=`:"
   ]
  },
  {
   "cell_type": "code",
   "execution_count": null,
   "metadata": {},
   "outputs": [],
   "source": [
    "salsa['tastes_great'] = True"
   ]
  },
  {
   "cell_type": "code",
   "execution_count": null,
   "metadata": {},
   "outputs": [],
   "source": [
    "salsa"
   ]
  },
  {
   "cell_type": "markdown",
   "metadata": {},
   "source": [
    "Para excluir um par de chave/valor de um dicionário, use o comando `del` e indique a chave:"
   ]
  },
  {
   "cell_type": "code",
   "execution_count": null,
   "metadata": {},
   "outputs": [],
   "source": [
    "del salsa['tastes_great']"
   ]
  },
  {
   "cell_type": "code",
   "execution_count": null,
   "metadata": {},
   "outputs": [],
   "source": [
    "salsa"
   ]
  },
  {
   "cell_type": "markdown",
   "metadata": {},
   "source": [
    "### ✍️ Faça você mesmo\n",
    "\n",
    "Use os blocos de código abaixo para experimentar dicionários."
   ]
  },
  {
   "cell_type": "code",
   "execution_count": null,
   "metadata": {},
   "outputs": [],
   "source": []
  },
  {
   "cell_type": "code",
   "execution_count": null,
   "metadata": {},
   "outputs": [],
   "source": []
  },
  {
   "cell_type": "code",
   "execution_count": null,
   "metadata": {},
   "outputs": [],
   "source": []
  },
  {
   "cell_type": "code",
   "execution_count": null,
   "metadata": {},
   "outputs": [],
   "source": []
  },
  {
   "cell_type": "code",
   "execution_count": null,
   "metadata": {},
   "outputs": [],
   "source": []
  },
  {
   "cell_type": "code",
   "execution_count": null,
   "metadata": {},
   "outputs": [],
   "source": []
  },
  {
   "cell_type": "markdown",
   "metadata": {},
   "source": [
    "### Identação\n",
    "\n",
    "O espaço em branco é importante no Python. Sometimes you'll need to indent bits of code to make things work. This can be confusing! `IndentationError`s são comuns mesmo para programadores experientes. (FWIW, Jupyter tentará ser útil e inserir a quantidade correta de \"espaço em branco significativo\" para você.)\n",
    "\n",
    "Você pode usar guias ou espaços, apenas não os misture. [The Python style guide](https://www.python.org/dev/peps/pep-0008/) recomenda recuar seu código em grupos de quatro espaços, e é isso que usaremos."
   ]
  },
  {
   "cell_type": "markdown",
   "metadata": {},
   "source": [
    "### `for` loops\n",
    "\n",
    "Você usaria um loop `for` para iterar sobre uma coleção de coisas. A instrução começa com a palavra-chave `for` (minúscula), depois um temporário` variable_name` de sua escolha para representar cada item à medida que você percorre a coleção, a palavra-chave em Python `in` e a coleção pela qual você está repetindo (ou seu nome de variável), dois pontos e depois o bloco de código recuado com instruções sobre o que fazer com cada item da coleção.\n",
    "\n",
    "Digamos que temos uma lista de números que atribuímos à variável `list_of_numbers`."
   ]
  },
  {
   "cell_type": "code",
   "execution_count": 16,
   "metadata": {},
   "outputs": [],
   "source": [
    "list_of_numbers = [1, 2, 3, 4, 5, 6]"
   ]
  },
  {
   "cell_type": "markdown",
   "metadata": {},
   "source": [
    "Poderíamos percorrer a lista e imprimir cada número:"
   ]
  },
  {
   "cell_type": "code",
   "execution_count": null,
   "metadata": {},
   "outputs": [],
   "source": [
    "for number in list_of_numbers:\n",
    "    print(number)"
   ]
  },
  {
   "cell_type": "markdown",
   "metadata": {},
   "source": [
    "Poderíamos imprimir cada número _vezes 6_:"
   ]
  },
  {
   "cell_type": "code",
   "execution_count": null,
   "metadata": {},
   "outputs": [],
   "source": [
    "for number in list_of_numbers:\n",
    "    print(number*6)"
   ]
  },
  {
   "cell_type": "markdown",
   "metadata": {},
   "source": [
    "... tudo o que você precisa fazer no seu loop. Observe que o nome da variável `number` no nosso loop é totalmente arbitrário. Isso também funcionaria:"
   ]
  },
  {
   "cell_type": "code",
   "execution_count": null,
   "metadata": {},
   "outputs": [],
   "source": [
    "for banana in list_of_numbers:\n",
    "    print(banana)"
   ]
  },
  {
   "cell_type": "markdown",
   "metadata": {},
   "source": [
    "Pode ser difícil, a princípio, descobrir o que é uma \"palavra reservada do Python\" e o nome de uma variável que você define. Isso vem com a prática."
   ]
  },
  {
   "cell_type": "markdown",
   "metadata": {},
   "source": [
    "Strings também são iteráveis. Vamos percorrer as letras em uma frase:"
   ]
  },
  {
   "cell_type": "code",
   "execution_count": null,
   "metadata": {},
   "outputs": [],
   "source": [
    "sentence = 'Hello, IRE/NICAR!'\n",
    "\n",
    "for letter in sentence:\n",
    "    print(letter)"
   ]
  },
  {
   "cell_type": "markdown",
   "metadata": {},
   "source": [
    "Até este ponto: Strings são iteráveis, como listas, para que você possa usar os mesmos tipos de métodos:"
   ]
  },
  {
   "cell_type": "code",
   "execution_count": null,
   "metadata": {},
   "outputs": [],
   "source": [
    "# obter os cinco primeiros caracteres\n",
    "sentence[:5]"
   ]
  },
  {
   "cell_type": "code",
   "execution_count": null,
   "metadata": {},
   "outputs": [],
   "source": [
    "# obter o comprimento da frase\n",
    "len(sentence)"
   ]
  },
  {
   "cell_type": "code",
   "execution_count": null,
   "metadata": {},
   "outputs": [],
   "source": [
    "'Hello' in sentence"
   ]
  },
  {
   "cell_type": "markdown",
   "metadata": {},
   "source": [
    "Você também pode iterar nos dicionários - lembre-se de que os dicionários _ não acompanham a ordem em que os itens foram adicionados a ele_.\n",
    "\n",
    "Quando você passa por um dicionário, o nome da variável no seu loop `for` se referirá às chaves. Vamos dar uma volta sobre o nosso dicionário `salsa` de cima para ver o que quero dizer."
   ]
  },
  {
   "cell_type": "code",
   "execution_count": null,
   "metadata": {},
   "outputs": [],
   "source": [
    "for key in salsa:\n",
    "    print(key)"
   ]
  },
  {
   "cell_type": "markdown",
   "metadata": {},
   "source": [
    "Para obter o _valor_ de um item de dicionário em um loop for, você precisará usar a tecla para recuperá-lo do dicionário:"
   ]
  },
  {
   "cell_type": "code",
   "execution_count": null,
   "metadata": {},
   "outputs": [],
   "source": [
    "for key in salsa:\n",
    "    print(salsa[key])"
   ]
  },
  {
   "cell_type": "markdown",
   "metadata": {},
   "source": [
    "### ✍️ Faça você mesmo\n",
    "\n",
    "Use os blocos de código abaixo para experimentar loops."
   ]
  },
  {
   "cell_type": "code",
   "execution_count": null,
   "metadata": {},
   "outputs": [],
   "source": []
  },
  {
   "cell_type": "code",
   "execution_count": null,
   "metadata": {},
   "outputs": [],
   "source": []
  },
  {
   "cell_type": "code",
   "execution_count": null,
   "metadata": {},
   "outputs": [],
   "source": []
  },
  {
   "cell_type": "code",
   "execution_count": null,
   "metadata": {},
   "outputs": [],
   "source": []
  },
  {
   "cell_type": "markdown",
   "metadata": {},
   "source": [
    "### `if` afirmações\n",
    "Assim como no Excel, você pode usar a palavra-chave \"if\" para lidar com a lógica condicional.\n",
    "\n",
    "Essas instruções começam com a palavra-chave `if` (minúscula), então a condição para avaliar, dois pontos e uma nova linha com um bloco de código recuado a ser executado se a condição for resolvida para `True`."
   ]
  },
  {
   "cell_type": "code",
   "execution_count": null,
   "metadata": {},
   "outputs": [],
   "source": [
    "if 4 < 6:\n",
    "    print('4 é menor do que 6')"
   ]
  },
  {
   "cell_type": "markdown",
   "metadata": {},
   "source": [
    "Você também pode adicionar um `else`(e dois pontos) com um bloco de código recuado que você deseja executar se a condição for resolvida como `False`."
   ]
  },
  {
   "cell_type": "code",
   "execution_count": null,
   "metadata": {},
   "outputs": [],
   "source": [
    "if 4 > 6:\n",
    "    print('4 é maior do que 6?!')\n",
    "else:\n",
    "    print('4 não é maior do que 6.')"
   ]
  },
  {
   "cell_type": "markdown",
   "metadata": {},
   "source": [
    "Se necessário, você pode adicionar várias condições com `elif`."
   ]
  },
  {
   "cell_type": "code",
   "execution_count": null,
   "metadata": {},
   "outputs": [],
   "source": [
    "HOME_SCORE = 6\n",
    "AWAY_SCORE = 8\n",
    "\n",
    "if HOME_SCORE > AWAY_SCORE:\n",
    "    print('nós vencemos!')\n",
    "elif HOME_SCORE == AWAY_SCORE:\n",
    "    print('nós empatamos!')\n",
    "else:\n",
    "    print('nós perdemos!')"
   ]
  },
  {
   "cell_type": "markdown",
   "metadata": {},
   "source": [
    "### ✍️ Faça você mesmo\n",
    "\n",
    "Use os blocos de código abaixo para experimentar _if_ afirmações."
   ]
  },
  {
   "cell_type": "code",
   "execution_count": null,
   "metadata": {},
   "outputs": [],
   "source": []
  },
  {
   "cell_type": "code",
   "execution_count": null,
   "metadata": {},
   "outputs": [],
   "source": []
  },
  {
   "cell_type": "code",
   "execution_count": null,
   "metadata": {},
   "outputs": [],
   "source": []
  },
  {
   "cell_type": "code",
   "execution_count": null,
   "metadata": {},
   "outputs": [],
   "source": []
  },
  {
   "cell_type": "code",
   "execution_count": null,
   "metadata": {},
   "outputs": [],
   "source": []
  },
  {
   "cell_type": "code",
   "execution_count": null,
   "metadata": {},
   "outputs": [],
   "source": []
  }
 ],
 "metadata": {
  "kernelspec": {
   "display_name": "Python 3",
   "language": "python",
   "name": "python3"
  },
  "language_info": {
   "codemirror_mode": {
    "name": "ipython",
    "version": 3
   },
   "file_extension": ".py",
   "mimetype": "text/x-python",
   "name": "python",
   "nbconvert_exporter": "python",
   "pygments_lexer": "ipython3",
   "version": "3.7.4"
  }
 },
 "nbformat": 4,
 "nbformat_minor": 4
}

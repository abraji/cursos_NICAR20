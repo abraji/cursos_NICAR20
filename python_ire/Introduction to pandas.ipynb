{
 "cells": [
  {
   "cell_type": "markdown",
   "metadata": {},
   "source": [
    "# Introdução ao pandas\n",
    "\n",
    "Este caderno apresentará a biblioteca de análise de dados [`pandas`](https://pandas.pydata.org/) e vai demonstrar como inspecionar, classificar, filtrar, agrupar e agregar um conjunto de dados.\n",
    "\n",
    "Os dados para este exercício serão um CSV de [dados coletados pelo USA Today sobre os salários da Major League Baseball (MLB)](https://www.usatoday.com/sports/mlb/salaries/) da temporada de 2018.\n",
    "\n",
    "(Se você é completamente novo no Python ou sua sintaxe está enferrujada, pode ser útil [manter este notebook aberto em uma nova guia](https://github.com/abraji/cursos_NICAR20/blob/master/python_ire/Python%20101.ipynb) como uma referência.)\n",
    "\n",
    "#### Esboço da sessão\n",
    "- [Using Jupyter notebooks](#Uso-do-Jupyter-notebooks)\n",
    "- [Import pandas](#Importar-o-pandas)\n",
    "- [Load data into a data frame](#Carregar-dados-em-um-dataframe)\n",
    "- [Inspect the data](#Inspecionar-os-dados)\n",
    "- [Sort the data](#Ordene-os-dados)\n",
    "- [Filter the data](#Filtre-os-dados)\n",
    "- [Group and aggregate the data](#Agrupe-e-agregue-os-dados)\n",
    "- [Export to CSV](#Grave-como-CSV)"
   ]
  },
  {
   "cell_type": "markdown",
   "metadata": {},
   "source": [
    "### Uso do Jupyter notebooks\n",
    "\n",
    "Existem várias maneiras de escrever e executar o código Python no seu computador. Uma maneira - o método que estamos usando hoje - é usar [Jupyter notebooks](https://jupyter.org/), que são executados no seu navegador e permitem intercalar a documentação com o seu código. Eles são úteis para agrupar seu código com uma explicação legível por humanos do que está acontecendo em cada etapa. Confira alguns exemplos do [L.A. Times](https://github.com/datadesk/notebooks) e [BuzzFeed News](https://github.com/BuzzFeedNews/everything#data-and-analyses).\n",
    "\n",
    "**Para adicionar uma nova célula ao seu notebook**: Clique no botão + no menu.\n",
    "\n",
    "**Para executar uma célula de código**: Selecione a célula e clique no botão \"Executar\" no menu ou pressione Shift + Enter.\n",
    "\n",
    "**Uma pegadinha comum**: O notebook não \"sabe\" sobre o código que você escreveu até ter um _executar (run)_ a célula em que está o código. Por exemplo, se você definir uma variável chamada `my_name` em uma célula, e depois, quando você tenta acessar essa variável em outra célula, mas obtém um erro que diz `NameError: name 'my_name' is not defined`, a solução mais provável é executar (ou executar novamente) a célula na qual você definiu `my_name`."
   ]
  },
  {
   "cell_type": "markdown",
   "metadata": {},
   "source": [
    "### Instalação\n",
    "Uma biblioteca de terceiros instalada separadamente do Python, como é o caso do pandas, pode ser instalada de várias formas - a depender de como você usa o Python. Veja mais [aqui](https://pandas.pydata.org/docs/getting_started/install.html)\n",
    "\n",
    "No terminal um modo muito comum é usar o pip: `pip install pandas`"
   ]
  },
  {
   "cell_type": "markdown",
   "metadata": {},
   "source": [
    "### Importar o pandas\n",
    "\n",
    "Antes de poder usar a funcionalidade do `pandas`, uma biblioteca de terceiros instalada separadamente do Python, você precisa _importar_. A convenção é importar a biblioteca com um alias (apelido) mais fácil de digitar: `as pd`.\n",
    "\n",
    "Execute esta célula:"
   ]
  },
  {
   "cell_type": "code",
   "execution_count": 1,
   "metadata": {},
   "outputs": [],
   "source": [
    "import pandas as pd"
   ]
  },
  {
   "cell_type": "markdown",
   "metadata": {},
   "source": [
    "### Alterar uma configuração de exibição\n",
    "\n",
    "Execute a próxima célula para alterar uma configuração que exibe grandes números em notação científica por padrão. (A menos que a notação científica seja seu interesse, nesse caso, _evite_ executar a próxima célula.)"
   ]
  },
  {
   "cell_type": "code",
   "execution_count": 3,
   "metadata": {},
   "outputs": [],
   "source": [
    "# https://pandas.pydata.org/pandas-docs/stable/user_guide/options.html\n",
    "pd.options.display.float_format = '{:20,.2f}'.format"
   ]
  },
  {
   "cell_type": "markdown",
   "metadata": {},
   "source": [
    "### Carregar dados em um dataframe\n",
    "\n",
    "Antes de começar a cutucar um arquivo de dados, você precisa carregar os dados em um pandas _data frame_, que é como uma planilha virtual com colunas e linhas.\n",
    "\n",
    "Você pode carregar muitos tipos diferentes de arquivos de dados em um dataframe, incluindo CSVs (e outros arquivos de texto delimitados), arquivos do Excel, JSON [e outros](https://www.cbtnuggets.com/blog/2018/10/14-file-types-you-can-import-into-pandas/). ([Aqui está um notebook de referência rápida](https://github.com/ireapps/cfj-2018/blob/master/reference/Importing%20data%20into%20pandas.ipynb) demonstrando como importar alguns arquivos de dados diferentes, incluindo dados ao vivo da Internet!)\n",
    "\n",
    "Hoje, vamos nos concentrar na importação dos dados salariais da MLB usando um método pandas chamado [`read_csv()`](https://pandas.pydata.org/pandas-docs/stable/generated/pandas.read_csv.html). Há várias opções que você pode fornecer ao ler o arquivo de dados, mas, no mínimo, você precisa informar o método _onde_ o arquivo fica, o que significa que você precisa fornecer o caminho para o arquivo de dados como uma _string_ Python (algum texto entre aspas simples ou duplas). O arquivo é chamado `mlb.csv`, e ele está localizado no mesmo diretório que esse arquivo notebook, portanto, não precisamos especificar um caminho mais longo.\n",
    "\n",
    "À medida que importamos os dados, também atribuímos os resultados da operação de carregamento a uma nova variável chamada _df_ (abreviação para data frame -- fácil de digitar, além disso, você verá muito esse padrão ao pesquisar no Google por ajuda).\n",
    "\n",
    "👉 [Clique aqui para obter mais informações sobre variáveis Python](https://github.com/abraji/cursos_NICAR20/blob/master/python_ire/Python%20101.ipynb)."
   ]
  },
  {
   "cell_type": "code",
   "execution_count": 4,
   "metadata": {},
   "outputs": [],
   "source": [
    "df = pd.read_csv('mlb.csv')"
   ]
  },
  {
   "cell_type": "markdown",
   "metadata": {},
   "source": [
    "Como uma frase de uma pessoa: \"Vá para a biblioteca de pandas que importamos anteriormente como algo chamado `pd` e use o seu método `read_csv()` para importar o arquivo `mlb.csv` em um dataframe -- e enquanto faz isso, atribua os resultados da operação para um nova variável chamada `df`.\""
   ]
  },
  {
   "cell_type": "markdown",
   "metadata": {},
   "source": [
    "### Inspecionar os dados\n",
    "\n",
    "Vamos dar uma olhada no que temos usando alguns métodos e atributos internos de um dataframe do pandas:\n",
    "- `df.head()` exibirá os cinco primeiros registros (ou, se preferir, você pode especificar um número, por exemplo, `df.head(10)`)\n",
    "- `df.tail()` exibirá os últimos cinco registros (ou, se preferir, você pode especificar um número, por exemplo, `df.tail(10)`)\n",
    "- `df.describe()` calculará estatísticas de resumo em colunas numéricas\n",
    "- `df.sample()` retornará um registro selecionado aleatoriamente (ou, se preferir, você especificar um número, por exemplo, `df.sample(5)`\n",
    "- `df.shape` dirá quantas colunas, quantas linhas existem\n",
    "- `df.dtypes` listará os nomes das colunas e informará que tipo de dados há em cada um"
   ]
  },
  {
   "cell_type": "code",
   "execution_count": null,
   "metadata": {},
   "outputs": [],
   "source": []
  },
  {
   "cell_type": "code",
   "execution_count": null,
   "metadata": {},
   "outputs": [],
   "source": []
  },
  {
   "cell_type": "code",
   "execution_count": null,
   "metadata": {},
   "outputs": [],
   "source": []
  },
  {
   "cell_type": "code",
   "execution_count": null,
   "metadata": {},
   "outputs": [],
   "source": []
  },
  {
   "cell_type": "code",
   "execution_count": null,
   "metadata": {},
   "outputs": [],
   "source": []
  },
  {
   "cell_type": "code",
   "execution_count": null,
   "metadata": {},
   "outputs": [],
   "source": []
  },
  {
   "cell_type": "markdown",
   "metadata": {},
   "source": [
    "### Ordene os dados\n",
    "\n",
    "Para ordenar um dataframe, use o método `sort_values()`. No mínimo, você precisa informar em qual coluna classificar."
   ]
  },
  {
   "cell_type": "code",
   "execution_count": null,
   "metadata": {},
   "outputs": [],
   "source": [
    "df.sort_values('SALARY')"
   ]
  },
  {
   "cell_type": "markdown",
   "metadata": {},
   "source": [
    "Para classificar em ordem decrescente, você precisa passar outro argumento para o método `sort_values()`: `ascending=False`. Observe que o valor booleano é _não_ uma sequência, portanto não está entre aspas e somente a letra inicial é maiúscula. (Se você estiver fornecendo vários argumentos para uma função ou método, separe-os com vírgulas.)\n",
    "\n",
    "👉 [Clique aqui para obter mais informações sobre booleanos Python](https://github.com/abraji/cursos_NICAR20/blob/master/python_ire/Python%20101.ipynb)."
   ]
  },
  {
   "cell_type": "code",
   "execution_count": null,
   "metadata": {},
   "outputs": [],
   "source": [
    "df.sort_values('SALARY', ascending=False)"
   ]
  },
  {
   "cell_type": "markdown",
   "metadata": {},
   "source": [
    "Você pode usar um processo chamado \"encadeamento de métodos\" para executar várias operações em uma linha. Se, por exemplo, quisermos classificar o dataframe por salário decrescente e inspecionar os 5 primeiros registros retornados:"
   ]
  },
  {
   "cell_type": "code",
   "execution_count": null,
   "metadata": {},
   "outputs": [],
   "source": [
    "df.sort_values('SALARY', ascending=False).head()"
   ]
  },
  {
   "cell_type": "markdown",
   "metadata": {},
   "source": [
    "Você pode classificar por várias colunas, passando uma _list_ de nomes de colunas em vez do nome de uma única coluna. Uma lista é uma coleção de itens entre colchetes`[]`.\n",
    "\n",
    "👉 [Clique aqui para obter mais informações sobre listas Python](https://github.com/abraji/cursos_NICAR20/blob/master/python_ire/Python%20101.ipynb).\n",
    "\n",
    "Para ordenar primeiro por `SALARY`, e então por `TEAM`:"
   ]
  },
  {
   "cell_type": "code",
   "execution_count": null,
   "metadata": {},
   "outputs": [],
   "source": [
    "df.sort_values(['SALARY', 'TEAM']).head()"
   ]
  },
  {
   "cell_type": "markdown",
   "metadata": {},
   "source": [
    "Você pode especificar a ordem de classificação (decrescente x crescente) para cada coluna de classificação, passando outra lista para a palavra-chave `ascending` com os itens` True` e `False` correspondentes à posição das colunas na primeira lista.\n",
    "\n",
    "Por exemplo, para classificar por `SALARY` descendente e depois por` TEAM` ascendente:"
   ]
  },
  {
   "cell_type": "code",
   "execution_count": null,
   "metadata": {},
   "outputs": [],
   "source": [
    "df.sort_values(['SALARY', 'TEAM'], ascending=[False, True]).head()"
   ]
  },
  {
   "cell_type": "markdown",
   "metadata": {},
   "source": [
    "O `False` vai com `SALARY` e o `True` com `TEAM` porque eles estão na mesma posição em suas respectivas listas."
   ]
  },
  {
   "cell_type": "markdown",
   "metadata": {},
   "source": [
    "Outra observação: Apesar de toda essa classificação que fizemos, o dataframe `df` original permanece inalterado:"
   ]
  },
  {
   "cell_type": "code",
   "execution_count": null,
   "metadata": {},
   "outputs": [],
   "source": [
    "df.head()"
   ]
  },
  {
   "cell_type": "markdown",
   "metadata": {},
   "source": [
    "Isso ocorre porque não \"salvamos\" os resultados desses tipos, atribuindo-os a uma nova variável. Normalmente, se você deseja preservar uma classificação (ou qualquer outro tipo de manipulação), atribuiriamos os resultados a uma nova variável:"
   ]
  },
  {
   "cell_type": "code",
   "execution_count": null,
   "metadata": {},
   "outputs": [],
   "source": [
    "sorted_by_team = df.sort_values('TEAM')"
   ]
  },
  {
   "cell_type": "code",
   "execution_count": null,
   "metadata": {},
   "outputs": [],
   "source": [
    "sorted_by_team.head()"
   ]
  },
  {
   "cell_type": "markdown",
   "metadata": {},
   "source": [
    "### ✍️ Faça você mesmo\n",
    "\n",
    "Nas células abaixo, pratique a classificação do dataframe `df`:\n",
    "- Por `NAME`\n",
    "- Por `POS` descendente\n",
    "- Por `SALARY` descendente, e então por `POS` ascendente, e salve os resultados em uma nova variável chamada `sorted_by_salary_then_pos`"
   ]
  },
  {
   "cell_type": "code",
   "execution_count": null,
   "metadata": {},
   "outputs": [],
   "source": []
  },
  {
   "cell_type": "code",
   "execution_count": null,
   "metadata": {},
   "outputs": [],
   "source": []
  },
  {
   "cell_type": "code",
   "execution_count": null,
   "metadata": {},
   "outputs": [],
   "source": []
  },
  {
   "cell_type": "code",
   "execution_count": null,
   "metadata": {},
   "outputs": [],
   "source": []
  },
  {
   "cell_type": "code",
   "execution_count": null,
   "metadata": {},
   "outputs": [],
   "source": []
  },
  {
   "cell_type": "markdown",
   "metadata": {},
   "source": [
    "### Filtre os dados\n",
    "\n",
    "Vamos analisar dois tipos diferentes de filtragem:\n",
    "\n",
    "- Filtragem de colunas: pegue uma ou mais colunas de dados para examinar, como passar nomes de colunas para uma instrução `SELECT` em SQL.\n",
    "- Filtragem de linhas: olhando para um subconjunto de seus dados que corresponde a alguns critérios, como os critérios de uma instrução `WHERE` em SQL. (Por exemplo, \"Mostre-me todos os registros no meu dataframe em que o valor na coluna `TEAM` é \"ARI\".)"
   ]
  },
  {
   "cell_type": "markdown",
   "metadata": {},
   "source": [
    "#### Filtragem de colunas\n",
    "\n",
    "Para acessar os valores em uma única coluna de dados, você pode usar \"notação de ponto\", desde que o nome da coluna não tenha espaços ou outros caracteres especiais:"
   ]
  },
  {
   "cell_type": "code",
   "execution_count": 5,
   "metadata": {},
   "outputs": [
    {
     "data": {
      "text/plain": [
       "0      LAD\n",
       "1      ARI\n",
       "2      BOS\n",
       "3      DET\n",
       "4      DET\n",
       "      ... \n",
       "863    BOS\n",
       "864    CIN\n",
       "865    LAA\n",
       "866    CIN\n",
       "867    CLE\n",
       "Name: TEAM, Length: 868, dtype: object"
      ]
     },
     "execution_count": 5,
     "metadata": {},
     "output_type": "execute_result"
    }
   ],
   "source": [
    "df.TEAM"
   ]
  },
  {
   "cell_type": "markdown",
   "metadata": {},
   "source": [
    "Caso contrário, use \"notação de colchete\" com o nome da coluna como uma sequência.\n",
    "\n",
    "Isso é equivalente ao comando anterior:"
   ]
  },
  {
   "cell_type": "code",
   "execution_count": null,
   "metadata": {},
   "outputs": [],
   "source": [
    "df['TEAM']"
   ]
  },
  {
   "cell_type": "markdown",
   "metadata": {},
   "source": [
    "Quando você acessa uma única coluna no seu dataframe, recebe de volta algo chamado um objeto `Series` (em oposição a um objeto `DataFrame`).\n",
    "\n",
    "Um dos métodos que você pode chamar em uma série é `unique()`, que mostra cada valor exclusivo na coluna. Vamos fazer isso com a coluna `TEAM`:"
   ]
  },
  {
   "cell_type": "code",
   "execution_count": null,
   "metadata": {},
   "outputs": [],
   "source": [
    "df.TEAM.unique()"
   ]
  },
  {
   "cell_type": "markdown",
   "metadata": {},
   "source": [
    "O que acabamos de fazer é o equivalente a arrastar a coluna \"TEAM\" para área \"linhas\" de uma tabela dinâmica de planilha ou, no SQL,\n",
    "\n",
    "```sql\n",
    "SELECT DISTINCT TEAM\n",
    "FROM mlb\n",
    "```\n",
    "\n",
    "Você também pode contar um total para cada valor usando o método `value_counts()`:"
   ]
  },
  {
   "cell_type": "code",
   "execution_count": null,
   "metadata": {},
   "outputs": [],
   "source": [
    "df.TEAM.value_counts()"
   ]
  },
  {
   "cell_type": "markdown",
   "metadata": {},
   "source": [
    "Para colunas numéricas, você pode chamar métodos nessa Series para calcular estatísticas básicas resumidas:\n",
    "- `min()` para obter o menor valor\n",
    "- `max()` para obter o maior valor\n",
    "- `median()` para obter a mediana\n",
    "- `mean()` para obter a média\n",
    "- `mode()` para obter o valor mais comum\n",
    "\n",
    "Confira na coluna `SALARY`:"
   ]
  },
  {
   "cell_type": "code",
   "execution_count": null,
   "metadata": {},
   "outputs": [],
   "source": [
    "df.SALARY.min()"
   ]
  },
  {
   "cell_type": "code",
   "execution_count": null,
   "metadata": {},
   "outputs": [],
   "source": [
    "df.SALARY.max()"
   ]
  },
  {
   "cell_type": "code",
   "execution_count": null,
   "metadata": {},
   "outputs": [],
   "source": [
    "df.SALARY.median()"
   ]
  },
  {
   "cell_type": "code",
   "execution_count": null,
   "metadata": {},
   "outputs": [],
   "source": [
    "df.SALARY.mean()"
   ]
  },
  {
   "cell_type": "code",
   "execution_count": null,
   "metadata": {},
   "outputs": [],
   "source": [
    "df.SALARY.mode()"
   ]
  },
  {
   "cell_type": "markdown",
   "metadata": {},
   "source": [
    "Para selecionar várias colunas no seu dataframe, use a notação entre colchetes, mas transmita em uma _lista_ os nomes das colunas em vez de apenas uma. Para tornar as coisas mais claras, você pode dividir isso em duas etapas:"
   ]
  },
  {
   "cell_type": "code",
   "execution_count": null,
   "metadata": {},
   "outputs": [],
   "source": [
    "columns_we_care_about = ['TEAM', 'SALARY']\n",
    "df[columns_we_care_about]"
   ]
  },
  {
   "cell_type": "markdown",
   "metadata": {},
   "source": [
    "#### Filtragem de linhas\n",
    "\n",
    "Para tornar as coisas extremamente confusas, você também pode usar a notação de colchete para a filtragem de linhas. Exceto neste caso, em vez de soltar o nome de uma coluna (ou uma lista de nomes de colunas) entre colchetes, você entrega a ela uma _condição_ de algum tipo.\n",
    "\n",
    "Vamos filtrar nossos dados para ver jogadores que ganham mais do que $1 milhão (em outras palavras, retorne linhas de dados em que o valor na coluna `SALARY` é maior do que 1000000):\n",
    "\n",
    "(The equivalent SQL statement would be:\n",
    "```sql\n",
    "SELECT *\n",
    "FROM mlb\n",
    "WHERE SALARY > 1000000\n",
    "```\n",
    ")"
   ]
  },
  {
   "cell_type": "code",
   "execution_count": null,
   "metadata": {},
   "outputs": [],
   "source": [
    "df[df.SALARY > 1000000]"
   ]
  },
  {
   "cell_type": "markdown",
   "metadata": {},
   "source": [
    "Para muitos filtros, você usará os operadores de comparação do Python:\n",
    "- `>` maior do que\n",
    "- `>=` maior do que ou igual a\n",
    "- `<` menor do que\n",
    "- `<=` menor do que ou igual a\n",
    "- `==` igual a\n",
    "- `!=` diferente de\n",
    "\n",
    "#### Várias condições de filtro\n",
    "\n",
    "E se você quiser usar várias condições de filtragem? Existe uma maneira, mas geralmente faz mais sentido - e é muito mais fácil para seus colegas e seu futuro pensar e depurar - _salvar_ os resultados de cada operação de filtragem atribuindo os resultados a uma nova variável e, em seguida, filtrar _isso_ de novo, ao invés do dataframe original.\n",
    "\n",
    "Por exemplo, se você quisesse ver jogadores do Colorado Rockies que ganham mais do que $1 milhão, você pode fazer algo como:"
   ]
  },
  {
   "cell_type": "code",
   "execution_count": null,
   "metadata": {},
   "outputs": [],
   "source": [
    "rockies = df[df.TEAM == 'COL']\n",
    "rockies_over_1m = rockies[rockies.SALARY > 1000000]"
   ]
  },
  {
   "cell_type": "code",
   "execution_count": null,
   "metadata": {},
   "outputs": [],
   "source": [
    "rockies_over_1m"
   ]
  },
  {
   "cell_type": "markdown",
   "metadata": {},
   "source": [
    "👉 [Confira algumas outras operações de filtragem aqui](https://pandas.pydata.org/pandas-docs/stable/reference/api/pandas.DataFrame.filter.html)."
   ]
  },
  {
   "cell_type": "markdown",
   "metadata": {},
   "source": [
    "### ✍️ Faça você mesmo\n",
    "\n",
    "Nas células abaixo, pratique a filtragem:\n",
    "- Filtragem de colunas: selecione a coluna `NAME`\n",
    "- Filtragem de colunas: selecione as colunas `NAME` e `TEAM` \n",
    "- Filtragem de linhas: filtre as linhas para retornar apenas jogadores que ganham na liga o mínimo (535000)\n",
    "- Filtragem de linhas: filtre as linhas para retornar somente os coletores (`C`) que ganham pelo menos 750000\n",
    "- BÔNUS: Filtre as linhas para retornar apenas jogadores para o Chicago Cubs (`CHC`), use o encadeamento de métodos para ordenar os resultados de `SALARY` descendente"
   ]
  },
  {
   "cell_type": "code",
   "execution_count": null,
   "metadata": {},
   "outputs": [],
   "source": []
  },
  {
   "cell_type": "code",
   "execution_count": null,
   "metadata": {},
   "outputs": [],
   "source": []
  },
  {
   "cell_type": "code",
   "execution_count": null,
   "metadata": {},
   "outputs": [],
   "source": []
  },
  {
   "cell_type": "code",
   "execution_count": null,
   "metadata": {},
   "outputs": [],
   "source": []
  },
  {
   "cell_type": "code",
   "execution_count": null,
   "metadata": {},
   "outputs": [],
   "source": []
  },
  {
   "cell_type": "markdown",
   "metadata": {},
   "source": [
    "### Agrupe e agregue os dados\n",
    "\n",
    "Os dataframes têm um método `groupby` para agrupar e agregar dados, semelhante ao que você pode fazer em uma tabela dinâmica ou em uma instrução `GROUP BY` no SQL. (Também existe um método [`tabela dinâmica`](https://pandas.pydata.org/pandas-docs/stable/reference/api/pandas.pivot_table.html), que pode ser uma lição de casa para você pesquisar.)\n",
    "\n",
    "Digamos que queríamos ver as 10 melhores equipes por folha de pagamento. Em outras palavras, queremos:\n",
    "- Agrupe os dados pela coluna `TEAM`: `groupby()`\n",
    "- Adicione os registros em cada grupo: `sum()`\n",
    "- Ordene os resultados de `SALARY` de forma descendente: `sort_values()`\n",
    "- Obtenha apenas os 10 primeiros resultados: `head(10)`\n",
    "\n",
    "Chamando o método `groupby()` sem dizer o que fazer com os registros agrupados não é super útil:"
   ]
  },
  {
   "cell_type": "code",
   "execution_count": null,
   "metadata": {},
   "outputs": [],
   "source": [
    "df.groupby('TEAM')"
   ]
  },
  {
   "cell_type": "markdown",
   "metadata": {},
   "source": [
    "Neste ponto, está basicamente nos dizendo que agrupou com sucesso os registros - e agora? Usando o encadeamento de métodos, descreva o que você gostaria de fazer com as colunas numéricas depois de agrupar os dados. Vamos começar com `sum()`:"
   ]
  },
  {
   "cell_type": "code",
   "execution_count": null,
   "metadata": {},
   "outputs": [],
   "source": [
    "df.groupby('TEAM').sum()"
   ]
  },
  {
   "cell_type": "markdown",
   "metadata": {},
   "source": [
    "Arrumado! Exceto pela soma de todas as colunas numéricas, não apenas `SALARY`. Para lidar com isso, use o filtro de colunas para selecionar as duas colunas nas quais estamos interessados-- `TEAM` para agrupar e `SALARY` para somar -- e _então_ faça a aderência a instrução `groupby` etc.\n",
    "\n",
    "(Lembre-se: para selecionar colunas de um dataframe, use a notação entre colchetes e forneça uma _lista_ dos nomes das colunas.)"
   ]
  },
  {
   "cell_type": "code",
   "execution_count": null,
   "metadata": {},
   "outputs": [],
   "source": [
    "df[['TEAM', 'SALARY']].groupby('TEAM').sum()"
   ]
  },
  {
   "cell_type": "markdown",
   "metadata": {},
   "source": [
    "Bang bang. Agora, usando o encadeamento de métodos, vamos classificar por `SALARY` descendente e ver apenas os 10 principais:"
   ]
  },
  {
   "cell_type": "code",
   "execution_count": null,
   "metadata": {},
   "outputs": [],
   "source": [
    "df[['TEAM', 'SALARY']].groupby('TEAM').sum().sort_values('SALARY', ascending=False).head(10)"
   ]
  },
  {
   "cell_type": "markdown",
   "metadata": {},
   "source": [
    "Você pode usar métodos de agregação diferentes de `sum()` -- `mean()` e `median()`, por exemplo -- ou você pode usar [o método `agg()`](https://pandas.pydata.org/pandas-docs/stable/reference/api/pandas.DataFrame.agg.html) para especificar um ou mais métodos de agregação a serem aplicados."
   ]
  },
  {
   "cell_type": "code",
   "execution_count": null,
   "metadata": {},
   "outputs": [],
   "source": [
    "df[['TEAM', 'SALARY']].groupby('TEAM').median()"
   ]
  },
  {
   "cell_type": "code",
   "execution_count": null,
   "metadata": {},
   "outputs": [],
   "source": [
    "df[['TEAM', 'SALARY']].groupby('TEAM').mean()"
   ]
  },
  {
   "cell_type": "code",
   "execution_count": null,
   "metadata": {},
   "outputs": [],
   "source": [
    "df[['TEAM', 'SALARY']].groupby('TEAM').agg(['sum', 'mean', 'median'])"
   ]
  },
  {
   "cell_type": "markdown",
   "metadata": {},
   "source": [
    "### ✍️ Faça você mesmo\n",
    "\n",
    "Nas células abaixo, pratique o agrupamento de dados:\n",
    "- Qual é o salário médio para cada cargo? Agrupe os dados por `POS` e agregue por `median()`, depois classifique por `SALARY` descendente\n",
    "- Qual é o salário médio em cada equipe? Agrupe os dados por `TEAM` e agregue `sum()`, então ordene por `SALARY` descendente\n",
    "- O quê mais?"
   ]
  },
  {
   "cell_type": "code",
   "execution_count": null,
   "metadata": {},
   "outputs": [],
   "source": []
  },
  {
   "cell_type": "code",
   "execution_count": null,
   "metadata": {},
   "outputs": [],
   "source": []
  },
  {
   "cell_type": "code",
   "execution_count": null,
   "metadata": {},
   "outputs": [],
   "source": []
  },
  {
   "cell_type": "code",
   "execution_count": null,
   "metadata": {},
   "outputs": [],
   "source": []
  },
  {
   "cell_type": "markdown",
   "metadata": {},
   "source": [
    "### Grave como CSV\n",
    "\n",
    "Para exportar um dataframe para um arquivo de texto delimitado, use o método [`to_csv()`](https://pandas.pydata.org/pandas-docs/stable/reference/api/pandas.DataFrame.to_csv.html). Se você não deseja incluir os números de índice, especifique `index=False`."
   ]
  },
  {
   "cell_type": "code",
   "execution_count": null,
   "metadata": {},
   "outputs": [],
   "source": [
    "df.to_csv('my-cool-data-frame.csv', index=False)"
   ]
  }
 ],
 "metadata": {
  "kernelspec": {
   "display_name": "Python 3",
   "language": "python",
   "name": "python3"
  },
  "language_info": {
   "codemirror_mode": {
    "name": "ipython",
    "version": 3
   },
   "file_extension": ".py",
   "mimetype": "text/x-python",
   "name": "python",
   "nbconvert_exporter": "python",
   "pygments_lexer": "ipython3",
   "version": "3.7.4"
  }
 },
 "nbformat": 4,
 "nbformat_minor": 4
}

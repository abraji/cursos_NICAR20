{
 "cells": [
  {
   "cell_type": "code",
   "execution_count": null,
   "metadata": {},
   "outputs": [],
   "source": []
  },
  {
   "cell_type": "code",
   "execution_count": 1,
   "metadata": {},
   "outputs": [],
   "source": [
    "from spacy.lang.pt import Portuguese"
   ]
  },
  {
   "cell_type": "code",
   "execution_count": null,
   "metadata": {},
   "outputs": [],
   "source": []
  },
  {
   "cell_type": "code",
   "execution_count": 2,
   "metadata": {},
   "outputs": [],
   "source": [
    "# Carregar Portuguese tokenizer, tagger, parser, NER e vetores de palavras"
   ]
  },
  {
   "cell_type": "code",
   "execution_count": 3,
   "metadata": {},
   "outputs": [],
   "source": [
    "nlp = Portuguese()"
   ]
  },
  {
   "cell_type": "code",
   "execution_count": null,
   "metadata": {},
   "outputs": [],
   "source": []
  },
  {
   "cell_type": "code",
   "execution_count": 9,
   "metadata": {},
   "outputs": [],
   "source": [
    "texto = \"Macunaíma, herói de nossa gente nasceu à margem do Uraricoera, em plena floresta amazônica. Descendia da tribo dos Tapanhumas e, desde a primeira infância, revelava-se como um sujeito preguiçoso. Ainda menino, busca prazeres amorosos com Sofará, mulher de seu irmão Jiguê, que só lhe havia dado pra comer as tripas de uma anta, caçada por Macunaíma numa armadilha esperta. Nas várias transas (brincadeiras) com Sofará, Macunaíma transforma-se num príncipe lindo, iniciando um processo constante de metamorfoses que irão ocorrer ao longo da narrativa: índio negro, vira branco, inseto, peixe e até mesmo um pato, dependendo das circunstâncias.\""
   ]
  },
  {
   "cell_type": "code",
   "execution_count": null,
   "metadata": {},
   "outputs": [],
   "source": []
  },
  {
   "cell_type": "code",
   "execution_count": 10,
   "metadata": {},
   "outputs": [],
   "source": [
    "# \"nlp\" O objeto é usado para criar documentos com anotações linguísticas.\n",
    "my_doc = nlp(texto)"
   ]
  },
  {
   "cell_type": "code",
   "execution_count": null,
   "metadata": {},
   "outputs": [],
   "source": []
  },
  {
   "cell_type": "markdown",
   "metadata": {},
   "source": [
    "### Criar lista de tokens de palavras"
   ]
  },
  {
   "cell_type": "code",
   "execution_count": 12,
   "metadata": {},
   "outputs": [
    {
     "name": "stdout",
     "output_type": "stream",
     "text": [
      "['Macunaíma', ',', 'herói', 'de', 'nossa', 'gente', 'nasceu', 'à', 'margem', 'do', 'Uraricoera', ',', 'em', 'plena', 'floresta', 'amazônica', '.', 'Descendia', 'da', 'tribo', 'dos', 'Tapanhumas', 'e', ',', 'desde', 'a', 'primeira', 'infância', ',', 'revelava-se', 'como', 'um', 'sujeito', 'preguiçoso', '.', 'Ainda', 'menino', ',', 'busca', 'prazeres', 'amorosos', 'com', 'Sofará', ',', 'mulher', 'de', 'seu', 'irmão', 'Jiguê', ',', 'que', 'só', 'lhe', 'havia', 'dado', 'pra', 'comer', 'as', 'tripas', 'de', 'uma', 'anta', ',', 'caçada', 'por', 'Macunaíma', 'numa', 'armadilha', 'esperta', '.', 'Nas', 'várias', 'transas', '(', 'brincadeiras', ')', 'com', 'Sofará', ',', 'Macunaíma', 'transforma-se', 'num', 'príncipe', 'lindo', ',', 'iniciando', 'um', 'processo', 'constante', 'de', 'metamorfoses', 'que', 'irão', 'ocorrer', 'a', 'o', 'longo', 'da', 'narrativa', ':', 'índio', 'negro', ',', 'vira', 'branco', ',', 'inseto', ',', 'peixe', 'e', 'até', 'mesmo', 'um', 'pato', ',', 'dependendo', 'das', 'circunstâncias', '.']\n"
     ]
    }
   ],
   "source": [
    "token_list = []\n",
    "for token in my_doc:\n",
    "    token_list.append(token.text)\n",
    "print(token_list)"
   ]
  },
  {
   "cell_type": "code",
   "execution_count": null,
   "metadata": {},
   "outputs": [],
   "source": []
  },
  {
   "cell_type": "markdown",
   "metadata": {},
   "source": [
    "### Sentence tokenization"
   ]
  },
  {
   "cell_type": "code",
   "execution_count": 15,
   "metadata": {},
   "outputs": [],
   "source": [
    "# Cria o componente 'sentencizer' do pipeline"
   ]
  },
  {
   "cell_type": "code",
   "execution_count": 16,
   "metadata": {},
   "outputs": [],
   "source": [
    "sbd = nlp.create_pipe('sentencizer')"
   ]
  },
  {
   "cell_type": "code",
   "execution_count": null,
   "metadata": {},
   "outputs": [],
   "source": []
  },
  {
   "cell_type": "code",
   "execution_count": 18,
   "metadata": {},
   "outputs": [],
   "source": [
    "# Adiciona o componente ao pipeline"
   ]
  },
  {
   "cell_type": "code",
   "execution_count": 19,
   "metadata": {},
   "outputs": [],
   "source": [
    "nlp.add_pipe(sbd)"
   ]
  },
  {
   "cell_type": "code",
   "execution_count": null,
   "metadata": {},
   "outputs": [],
   "source": []
  },
  {
   "cell_type": "code",
   "execution_count": 44,
   "metadata": {},
   "outputs": [],
   "source": [
    "texto = \"Macunaíma, herói de nossa gente nasceu à margem do Uraricoera, em plena floresta amazônica. Descendia da tribo dos Tapanhumas e, desde a primeira infância, revelava-se como um sujeito preguiçoso. Ainda menino, busca prazeres amorosos com Sofará, mulher de seu irmão Jiguê, que só lhe havia dado pra comer as tripas de uma anta, caçada por Macunaíma numa armadilha esperta. Nas várias transas (brincadeiras) com Sofará, Macunaíma transforma-se num príncipe lindo, iniciando um processo constante de metamorfoses que irão ocorrer ao longo da narrativa: índio negro, vira branco, inseto, peixe e até mesmo um pato, dependendo das circunstâncias. De tanto aprontar, foi abandonado pela mãe no meio do mato. Tremelicando, com as perninhas em arco, Macunaíma botou o pé na estrada até que topou com o Curupira e perguntou-lhe como faria para voltar pra casa. Maliciosamente, o Curupira ensina-lhe um caminho errado que Macunaíma, por preguiça, não seguiu. Escapando do monstro, o herói topou com uma voz que cantava uma toada lenta: era a cotia, que depois de ouvir o piá contar como enganara o Curupira, jogou-lhe em cima calda envenenada de mandioca. Isto fez Macunaíma crescer, atingindo o tamanho dum homem taludo. Encontra Ci, a Mãe do Mato e inventa com ela lindas e novas maneiras de gozos de amor. O resultado desse idílio é o nascimento de um curumi, que morreu prematuramente depois de mamar no único peito de Ci, envenenado pela Cobra Preta. Enterrado o filho, Ci também resolveu deixar este mundo. Deu ao herói sua muiraquitã famosa e subiu pro céu por um cipó, transformando-se numa estrela.\""
   ]
  },
  {
   "cell_type": "code",
   "execution_count": null,
   "metadata": {},
   "outputs": [],
   "source": []
  },
  {
   "cell_type": "code",
   "execution_count": 21,
   "metadata": {},
   "outputs": [],
   "source": [
    "# O objeto \"nlp\" é usado para criar documentos com anotações linguísticas."
   ]
  },
  {
   "cell_type": "code",
   "execution_count": 23,
   "metadata": {},
   "outputs": [],
   "source": [
    "doc = nlp(texto)"
   ]
  },
  {
   "cell_type": "code",
   "execution_count": null,
   "metadata": {},
   "outputs": [],
   "source": []
  },
  {
   "cell_type": "code",
   "execution_count": 24,
   "metadata": {},
   "outputs": [],
   "source": [
    "# criar lista de tokens de sentença"
   ]
  },
  {
   "cell_type": "code",
   "execution_count": 25,
   "metadata": {},
   "outputs": [
    {
     "name": "stdout",
     "output_type": "stream",
     "text": [
      "['Macunaíma, herói de nossa gente nasceu à margem do Uraricoera, em plena floresta amazônica.', 'Descendia da tribo dos Tapanhumas e, desde a primeira infância, revelava-se como um sujeito preguiçoso.', 'Ainda menino, busca prazeres amorosos com Sofará, mulher de seu irmão Jiguê, que só lhe havia dado pra comer as tripas de uma anta, caçada por Macunaíma numa armadilha esperta.', 'Nas várias transas (brincadeiras) com Sofará, Macunaíma transforma-se num príncipe lindo, iniciando um processo constante de metamorfoses que irão ocorrer ao longo da narrativa: índio negro, vira branco, inseto, peixe e até mesmo um pato, dependendo das circunstâncias.', 'De tanto aprontar, foi abandonado pela mãe no meio do mato.', 'Tremelicando, com as perninhas em arco, Macunaíma botou o pé na estrada até que topou com o Curupira e perguntou-lhe como faria para voltar pra casa.', 'Maliciosamente, o Curupira ensina-lhe um caminho errado que Macunaíma, por preguiça, não seguiu.', 'Escapando do monstro, o herói topou com uma voz que cantava uma toada lenta: era a cotia, que depois de ouvir o piá contar como enganara o Curupira, jogou-lhe em cima calda envenenada de mandioca.', 'Isto fez Macunaíma crescer, atingindo o tamanho dum homem taludo.', 'Encontra Ci, a Mãe do Mato e inventa com ela lindas e novas maneiras de gozos de amor.', 'O resultado desse idílio é o nascimento de um curumi, que morreu prematuramente depois de mamar no único peito de Ci, envenenado pela Cobra Preta.', 'Enterrado o filho, Ci também resolveu deixar este mundo.', 'Deu ao herói sua muiraquitã famosa e subiu pro céu por um cipó, transformando-se numa estrela.']\n"
     ]
    }
   ],
   "source": [
    "sents_list = []\n",
    "for sent in doc.sents:\n",
    "    sents_list.append(sent.text)\n",
    "print(sents_list)"
   ]
  },
  {
   "cell_type": "code",
   "execution_count": null,
   "metadata": {},
   "outputs": [],
   "source": []
  },
  {
   "cell_type": "markdown",
   "metadata": {},
   "source": [
    "### Limpando dados de texto: removendo stopwords"
   ]
  },
  {
   "cell_type": "code",
   "execution_count": 26,
   "metadata": {},
   "outputs": [],
   "source": [
    "# Stopwords\n",
    "# Importa stopwords do idioma português."
   ]
  },
  {
   "cell_type": "code",
   "execution_count": 50,
   "metadata": {},
   "outputs": [],
   "source": [
    "import spacy\n",
    "spacy_stopwords = spacy.lang.pt.stop_words.STOP_WORDS"
   ]
  },
  {
   "cell_type": "code",
   "execution_count": null,
   "metadata": {},
   "outputs": [],
   "source": []
  },
  {
   "cell_type": "code",
   "execution_count": 28,
   "metadata": {},
   "outputs": [],
   "source": [
    "# Imprimir o número total de stopwords"
   ]
  },
  {
   "cell_type": "code",
   "execution_count": 29,
   "metadata": {},
   "outputs": [
    {
     "name": "stdout",
     "output_type": "stream",
     "text": [
      "Número de stop words: 413\n"
     ]
    }
   ],
   "source": [
    "print('Número de stop words: %d' % len(spacy_stopwords))"
   ]
  },
  {
   "cell_type": "code",
   "execution_count": 30,
   "metadata": {},
   "outputs": [],
   "source": [
    "#Imprimir as dez primeiras stopwords"
   ]
  },
  {
   "cell_type": "code",
   "execution_count": 31,
   "metadata": {},
   "outputs": [
    {
     "name": "stdout",
     "output_type": "stream",
     "text": [
      "Dez primeiras stop words: ['certeza', 'grande', 'tem', 'sexta', 'quanto', 'tentar', 'à', 'sei', 'disso', 'ademais', 'posição', 'estiveram', 'corrente', 'aqueles', 'exemplo', 'sob', 'inclusive', 'lhe', 'elas', 'te']\n"
     ]
    }
   ],
   "source": [
    "print('Dez primeiras stop words: %s' % list(spacy_stopwords)[:20])"
   ]
  },
  {
   "cell_type": "code",
   "execution_count": null,
   "metadata": {},
   "outputs": [],
   "source": []
  },
  {
   "cell_type": "code",
   "execution_count": 42,
   "metadata": {},
   "outputs": [],
   "source": [
    "# Implementação de stop words\n",
    "filtered_sent=[]"
   ]
  },
  {
   "cell_type": "code",
   "execution_count": null,
   "metadata": {},
   "outputs": [],
   "source": []
  },
  {
   "cell_type": "code",
   "execution_count": 43,
   "metadata": {},
   "outputs": [],
   "source": [
    "# O objeto \"nlp\" é usado para criar documentos com anotações linguísticas."
   ]
  },
  {
   "cell_type": "code",
   "execution_count": 45,
   "metadata": {},
   "outputs": [],
   "source": [
    "doc = nlp(texto)"
   ]
  },
  {
   "cell_type": "code",
   "execution_count": null,
   "metadata": {},
   "outputs": [],
   "source": []
  },
  {
   "cell_type": "code",
   "execution_count": 46,
   "metadata": {},
   "outputs": [
    {
     "name": "stdout",
     "output_type": "stream",
     "text": [
      "Frases filtradas: [Macunaíma, ,, herói, gente, nasceu, margem, Uraricoera, ,, plena, floresta, amazônica, ., Descendia, tribo, Tapanhumas, e, ,, a, infância, ,, revelava-se, sujeito, preguiçoso, ., menino, ,, busca, prazeres, amorosos, Sofará, ,, mulher, irmão, Jiguê, ,, havia, dado, pra, comer, tripas, anta, ,, caçada, Macunaíma, armadilha, esperta, ., várias, transas, (, brincadeiras, ), Sofará, ,, Macunaíma, transforma-se, príncipe, lindo, ,, iniciando, processo, constante, metamorfoses, irão, ocorrer, a, o, longo, narrativa, :, índio, negro, ,, vira, branco, ,, inseto, ,, peixe, e, pato, ,, dependendo, circunstâncias, ., aprontar, ,, abandonado, mãe, mato, ., Tremelicando, ,, perninhas, arco, ,, Macunaíma, botou, o, pé, estrada, topou, o, Curupira, e, perguntou-lhe, faria, voltar, pra, casa, ., Maliciosamente, ,, o, Curupira, ensina-lhe, errado, Macunaíma, ,, preguiça, ,, seguiu, ., Escapando, monstro, ,, o, herói, topou, voz, cantava, toada, lenta, :, a, cotia, ,, ouvir, o, piá, contar, enganara, o, Curupira, ,, jogou-lhe, calda, envenenada, mandioca, ., Macunaíma, crescer, ,, atingindo, o, tamanho, dum, homem, taludo, ., Encontra, Ci, ,, a, Mãe, Mato, e, inventa, lindas, e, maneiras, gozos, amor, ., O, resultado, d, idílio, o, nascimento, curumi, ,, morreu, prematuramente, mamar, único, peito, Ci, ,, envenenado, Cobra, Preta, ., Enterrado, o, filho, ,, Ci, resolveu, deixar, mundo, ., Deu, a, o, herói, muiraquitã, famosa, e, subiu, pro, céu, cipó, ,, transformando-se, estrela, .]\n"
     ]
    }
   ],
   "source": [
    "# filtrando stop words\n",
    "for word in doc:\n",
    "    if word.is_stop==False:\n",
    "        filtered_sent.append(word)\n",
    "print(\"Frases filtradas:\",filtered_sent)"
   ]
  },
  {
   "cell_type": "code",
   "execution_count": null,
   "metadata": {},
   "outputs": [],
   "source": []
  },
  {
   "cell_type": "markdown",
   "metadata": {},
   "source": [
    "### Lematização"
   ]
  },
  {
   "cell_type": "code",
   "execution_count": 51,
   "metadata": {},
   "outputs": [],
   "source": [
    "from spacy.lang.pt import Portuguese\n",
    "nlp = Portuguese()"
   ]
  },
  {
   "cell_type": "code",
   "execution_count": 54,
   "metadata": {},
   "outputs": [],
   "source": [
    "# Implementando lematização\n",
    "lem = nlp(\"correr corrida corredor correndo correria corridas\")"
   ]
  },
  {
   "cell_type": "code",
   "execution_count": 55,
   "metadata": {},
   "outputs": [
    {
     "name": "stdout",
     "output_type": "stream",
     "text": [
      "correr correr\n",
      "corrida corrida\n",
      "corredor corredor\n",
      "correndo correndo\n",
      "correria correria\n",
      "corridas corridas\n"
     ]
    }
   ],
   "source": [
    "# procurar palavras semelhantes de cada palavra\n",
    "for word in lem:\n",
    "    print(word.text,word.lemma_)"
   ]
  },
  {
   "cell_type": "code",
   "execution_count": null,
   "metadata": {},
   "outputs": [],
   "source": []
  }
 ],
 "metadata": {
  "kernelspec": {
   "display_name": "Python 3",
   "language": "python",
   "name": "python3"
  },
  "language_info": {
   "codemirror_mode": {
    "name": "ipython",
    "version": 3
   },
   "file_extension": ".py",
   "mimetype": "text/x-python",
   "name": "python",
   "nbconvert_exporter": "python",
   "pygments_lexer": "ipython3",
   "version": "3.6.9"
  }
 },
 "nbformat": 4,
 "nbformat_minor": 4
}

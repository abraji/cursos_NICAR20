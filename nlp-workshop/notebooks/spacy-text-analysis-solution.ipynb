{
 "cells": [
  {
   "cell_type": "markdown",
   "metadata": {},
   "source": [
    "## NICAR 2020: NLP Workshop\n",
    "\n",
    "Spacy é uma biblioteca que pode ajudá-lo a fazer análises linguísticas.\n",
    "\n",
    "Para instalar e usar a versão em inglês do spacy, você deve executar estes comandos em seu ambiente virtual:\n",
    "`pip3 install spacy`\n",
    "`python3 -m spacy download en_core_web_sm`\n",
    "Nós estaremos importando o arquivo `text.txt` que está no sua pasta `data`. Ele contém um artigo de amostra sobre um artigo muito especial [cat](https://www.buzzfeednews.com/article/juliareinstein/this-thicc-lazy-high-maintenance-incredibly-well-hydrated/).\n",
    "\n",
    "Para o português você deve instalar: `python -m spacy download pt_core_news_sm`"
   ]
  },
  {
   "cell_type": "code",
   "execution_count": null,
   "metadata": {},
   "outputs": [],
   "source": []
  },
  {
   "cell_type": "code",
   "execution_count": 2,
   "metadata": {},
   "outputs": [],
   "source": [
    "# Importar nossas bibliotecas\n",
    "import spacy\n",
    "import pandas as pd"
   ]
  },
  {
   "cell_type": "code",
   "execution_count": 5,
   "metadata": {},
   "outputs": [
    {
     "data": {
      "text/plain": [
       "2990"
      ]
     },
     "execution_count": 5,
     "metadata": {},
     "output_type": "execute_result"
    }
   ],
   "source": [
    "# Carregar English tokenizer, tagger, parser, NER e vetores de palavras\n",
    "nlp = spacy.load('en_core_web_sm')\n",
    "\n",
    "# Para analisar a língua portuguesa seria feito isto ao invés\n",
    "# nlp = spacy.load('pt_core_news_sm')\n",
    "\n",
    "# abre o arquivo de texto e o transforma em uma string\n",
    "text = open(\"../data/text.txt\",\"r+\").read()\n",
    "len(text) # isso retorna o comprimento de caracteres e espaços"
   ]
  },
  {
   "cell_type": "markdown",
   "metadata": {},
   "source": [
    "### Corpus & Tokenizing\n",
    "\n",
    "Agora vamos transformar o string em um corpus para spacy!"
   ]
  },
  {
   "cell_type": "code",
   "execution_count": 6,
   "metadata": {},
   "outputs": [],
   "source": [
    "doc = nlp(text)"
   ]
  },
  {
   "cell_type": "markdown",
   "metadata": {},
   "source": [
    "O documento pode funcionar como uma lista de palavras. Para acessar cada palavra ou 'token', podemos usar a função incorporada `.text`"
   ]
  },
  {
   "cell_type": "code",
   "execution_count": null,
   "metadata": {},
   "outputs": [],
   "source": [
    "for token in doc:\n",
    "    print(token.text)"
   ]
  },
  {
   "cell_type": "markdown",
   "metadata": {},
   "source": [
    "Agora podemos contar algumas palavras:\n",
    "- transformando as palavras em uma lista\n",
    "- transformando essa lista em um dataframe de pandas\n",
    "- contando os valores"
   ]
  },
  {
   "cell_type": "code",
   "execution_count": 8,
   "metadata": {},
   "outputs": [],
   "source": [
    "rows = []\n",
    "for token in doc:\n",
    "    rows.append(token.text)"
   ]
  },
  {
   "cell_type": "code",
   "execution_count": null,
   "metadata": {},
   "outputs": [],
   "source": [
    "print(rows)"
   ]
  },
  {
   "cell_type": "code",
   "execution_count": 10,
   "metadata": {},
   "outputs": [
    {
     "data": {
      "text/html": [
       "<div>\n",
       "<style scoped>\n",
       "    .dataframe tbody tr th:only-of-type {\n",
       "        vertical-align: middle;\n",
       "    }\n",
       "\n",
       "    .dataframe tbody tr th {\n",
       "        vertical-align: top;\n",
       "    }\n",
       "\n",
       "    .dataframe thead th {\n",
       "        text-align: right;\n",
       "    }\n",
       "</style>\n",
       "<table border=\"1\" class=\"dataframe\">\n",
       "  <thead>\n",
       "    <tr style=\"text-align: right;\">\n",
       "      <th></th>\n",
       "      <th>word</th>\n",
       "    </tr>\n",
       "  </thead>\n",
       "  <tbody>\n",
       "    <tr>\n",
       "      <th>0</th>\n",
       "      <td>This</td>\n",
       "    </tr>\n",
       "    <tr>\n",
       "      <th>1</th>\n",
       "      <td>is</td>\n",
       "    </tr>\n",
       "    <tr>\n",
       "      <th>2</th>\n",
       "      <td>Bruno</td>\n",
       "    </tr>\n",
       "    <tr>\n",
       "      <th>3</th>\n",
       "      <td>,</td>\n",
       "    </tr>\n",
       "    <tr>\n",
       "      <th>4</th>\n",
       "      <td>and</td>\n",
       "    </tr>\n",
       "  </tbody>\n",
       "</table>\n",
       "</div>"
      ],
      "text/plain": [
       "    word\n",
       "0   This\n",
       "1     is\n",
       "2  Bruno\n",
       "3      ,\n",
       "4    and"
      ]
     },
     "execution_count": 10,
     "metadata": {},
     "output_type": "execute_result"
    }
   ],
   "source": [
    "word_dataframe = pd.DataFrame(rows)\n",
    "word_dataframe.columns = ['word']\n",
    "word_dataframe.head()"
   ]
  },
  {
   "cell_type": "markdown",
   "metadata": {},
   "source": [
    "Duas maneiras de contar:"
   ]
  },
  {
   "cell_type": "code",
   "execution_count": 11,
   "metadata": {},
   "outputs": [
    {
     "data": {
      "text/html": [
       "<div>\n",
       "<style scoped>\n",
       "    .dataframe tbody tr th:only-of-type {\n",
       "        vertical-align: middle;\n",
       "    }\n",
       "\n",
       "    .dataframe tbody tr th {\n",
       "        vertical-align: top;\n",
       "    }\n",
       "\n",
       "    .dataframe thead th {\n",
       "        text-align: right;\n",
       "    }\n",
       "</style>\n",
       "<table border=\"1\" class=\"dataframe\">\n",
       "  <thead>\n",
       "    <tr style=\"text-align: right;\">\n",
       "      <th></th>\n",
       "      <th>index</th>\n",
       "      <th>word</th>\n",
       "    </tr>\n",
       "  </thead>\n",
       "  <tbody>\n",
       "    <tr>\n",
       "      <th>0</th>\n",
       "      <td>,</td>\n",
       "      <td>34</td>\n",
       "    </tr>\n",
       "    <tr>\n",
       "      <th>1</th>\n",
       "      <td>.</td>\n",
       "      <td>33</td>\n",
       "    </tr>\n",
       "    <tr>\n",
       "      <th>2</th>\n",
       "      <td>I</td>\n",
       "      <td>20</td>\n",
       "    </tr>\n",
       "    <tr>\n",
       "      <th>3</th>\n",
       "      <td>\\n\\n</td>\n",
       "      <td>18</td>\n",
       "    </tr>\n",
       "    <tr>\n",
       "      <th>4</th>\n",
       "      <td>the</td>\n",
       "      <td>18</td>\n",
       "    </tr>\n",
       "  </tbody>\n",
       "</table>\n",
       "</div>"
      ],
      "text/plain": [
       "  index  word\n",
       "0     ,    34\n",
       "1     .    33\n",
       "2     I    20\n",
       "3  \\n\\n    18\n",
       "4   the    18"
      ]
     },
     "execution_count": 11,
     "metadata": {},
     "output_type": "execute_result"
    }
   ],
   "source": [
    "word_count = word_dataframe['word'].value_counts().reset_index()\n",
    "word_count.head()"
   ]
  },
  {
   "cell_type": "code",
   "execution_count": 12,
   "metadata": {},
   "outputs": [
    {
     "data": {
      "text/html": [
       "<div>\n",
       "<style scoped>\n",
       "    .dataframe tbody tr th:only-of-type {\n",
       "        vertical-align: middle;\n",
       "    }\n",
       "\n",
       "    .dataframe tbody tr th {\n",
       "        vertical-align: top;\n",
       "    }\n",
       "\n",
       "    .dataframe thead th {\n",
       "        text-align: right;\n",
       "    }\n",
       "</style>\n",
       "<table border=\"1\" class=\"dataframe\">\n",
       "  <thead>\n",
       "    <tr style=\"text-align: right;\">\n",
       "      <th></th>\n",
       "      <th>word</th>\n",
       "    </tr>\n",
       "    <tr>\n",
       "      <th>word</th>\n",
       "      <th></th>\n",
       "    </tr>\n",
       "  </thead>\n",
       "  <tbody>\n",
       "    <tr>\n",
       "      <th>\\n</th>\n",
       "      <td>1</td>\n",
       "    </tr>\n",
       "    <tr>\n",
       "      <th>\\n\\n</th>\n",
       "      <td>18</td>\n",
       "    </tr>\n",
       "    <tr>\n",
       "      <th>!</th>\n",
       "      <td>1</td>\n",
       "    </tr>\n",
       "    <tr>\n",
       "      <th>\"</th>\n",
       "      <td>12</td>\n",
       "    </tr>\n",
       "    <tr>\n",
       "      <th>'s</th>\n",
       "      <td>1</td>\n",
       "    </tr>\n",
       "  </tbody>\n",
       "</table>\n",
       "</div>"
      ],
      "text/plain": [
       "      word\n",
       "word      \n",
       "\\n       1\n",
       "\\n\\n    18\n",
       "!        1\n",
       "\"       12\n",
       "'s       1"
      ]
     },
     "execution_count": 12,
     "metadata": {},
     "output_type": "execute_result"
    }
   ],
   "source": [
    "word_count_alt = word_dataframe.groupby('word').agg({\"word\":\"count\"})\n",
    "word_count_alt.head()"
   ]
  },
  {
   "cell_type": "markdown",
   "metadata": {},
   "source": [
    "Você pode salvar as saídas usando `.to_csv`:"
   ]
  },
  {
   "cell_type": "code",
   "execution_count": 13,
   "metadata": {},
   "outputs": [],
   "source": [
    "word_count.to_csv('../output/word_count.csv', index=False)\n",
    "word_count_alt.to_csv('../output/word_count2.csv')"
   ]
  },
  {
   "cell_type": "markdown",
   "metadata": {},
   "source": [
    "### Mais maneiras de filtrar e limpar\n",
    "\n",
    "Quando você converte um documento em tokens usando o spacy, ele não contém apenas informações sobre cada palavra. "
   ]
  },
  {
   "cell_type": "markdown",
   "metadata": {},
   "source": [
    "#### Stopwords\n",
    "\n",
    "Spacy tem uma lista interna de 'stopwords', ou palavras extremamente comuns que podem não adicionar muita percepção à nossa análise. Quando você tokeniza seu documento, ele também verifica seus tokens com as palavras de parada."
   ]
  },
  {
   "cell_type": "code",
   "execution_count": 14,
   "metadata": {},
   "outputs": [],
   "source": [
    "rows = []\n",
    "for token in doc:\n",
    "    rows.append([token.text, token.is_stop])"
   ]
  },
  {
   "cell_type": "code",
   "execution_count": 15,
   "metadata": {},
   "outputs": [
    {
     "data": {
      "text/html": [
       "<div>\n",
       "<style scoped>\n",
       "    .dataframe tbody tr th:only-of-type {\n",
       "        vertical-align: middle;\n",
       "    }\n",
       "\n",
       "    .dataframe tbody tr th {\n",
       "        vertical-align: top;\n",
       "    }\n",
       "\n",
       "    .dataframe thead th {\n",
       "        text-align: right;\n",
       "    }\n",
       "</style>\n",
       "<table border=\"1\" class=\"dataframe\">\n",
       "  <thead>\n",
       "    <tr style=\"text-align: right;\">\n",
       "      <th></th>\n",
       "      <th>word</th>\n",
       "      <th>is_stop</th>\n",
       "    </tr>\n",
       "  </thead>\n",
       "  <tbody>\n",
       "    <tr>\n",
       "      <th>0</th>\n",
       "      <td>This</td>\n",
       "      <td>True</td>\n",
       "    </tr>\n",
       "    <tr>\n",
       "      <th>1</th>\n",
       "      <td>is</td>\n",
       "      <td>True</td>\n",
       "    </tr>\n",
       "    <tr>\n",
       "      <th>2</th>\n",
       "      <td>Bruno</td>\n",
       "      <td>False</td>\n",
       "    </tr>\n",
       "    <tr>\n",
       "      <th>3</th>\n",
       "      <td>,</td>\n",
       "      <td>False</td>\n",
       "    </tr>\n",
       "    <tr>\n",
       "      <th>4</th>\n",
       "      <td>and</td>\n",
       "      <td>True</td>\n",
       "    </tr>\n",
       "  </tbody>\n",
       "</table>\n",
       "</div>"
      ],
      "text/plain": [
       "    word  is_stop\n",
       "0   This     True\n",
       "1     is     True\n",
       "2  Bruno    False\n",
       "3      ,    False\n",
       "4    and     True"
      ]
     },
     "execution_count": 15,
     "metadata": {},
     "output_type": "execute_result"
    }
   ],
   "source": [
    "stop_dataframe = pd.DataFrame(rows)\n",
    "stop_dataframe.columns = ['word', 'is_stop']\n",
    "stop_dataframe.head()"
   ]
  },
  {
   "cell_type": "markdown",
   "metadata": {},
   "source": [
    "Compare a diferença entre as contagens agregadas com e sem as stopwords:"
   ]
  },
  {
   "cell_type": "code",
   "execution_count": 16,
   "metadata": {},
   "outputs": [
    {
     "data": {
      "text/plain": [
       ",          34\n",
       ".          33\n",
       "\\n\\n       18\n",
       "“          12\n",
       "\"          12\n",
       "”          12\n",
       "said        8\n",
       "shelter     7\n",
       "Bruno       6\n",
       "foster      6\n",
       "Name: word, dtype: int64"
      ]
     },
     "execution_count": 16,
     "metadata": {},
     "output_type": "execute_result"
    }
   ],
   "source": [
    "no_stop = stop_dataframe[~stop_dataframe['is_stop']]\n",
    "\n",
    "no_stop['word'].value_counts().head(10)"
   ]
  },
  {
   "cell_type": "code",
   "execution_count": 17,
   "metadata": {},
   "outputs": [
    {
     "data": {
      "text/plain": [
       ",       34\n",
       ".       33\n",
       "I       20\n",
       "\\n\\n    18\n",
       "the     18\n",
       "a       15\n",
       "to      15\n",
       "my      13\n",
       "and     12\n",
       "“       12\n",
       "Name: word, dtype: int64"
      ]
     },
     "execution_count": 17,
     "metadata": {},
     "output_type": "execute_result"
    }
   ],
   "source": [
    "stop_dataframe['word'].value_counts().head(10)"
   ]
  },
  {
   "cell_type": "markdown",
   "metadata": {},
   "source": [
    "#### Lematização\n",
    "\n",
    "Quando você tokeniza seu documento com spacy, ele também _lemmatizes_ este, ou agrupa palavras e seus derivados (e.g., _organize_, _organized_, and _organizing_). Por exemplo:\n",
    "\n",
    "- am, are, is $\\Rightarrow$ be\n",
    "- car, cars, car's, cars' $\\Rightarrow$ car\n",
    "\n",
    "Você pode acessar a palavra lematizada de um token usando o `token.lemma_`."
   ]
  },
  {
   "cell_type": "code",
   "execution_count": 18,
   "metadata": {},
   "outputs": [],
   "source": [
    "rows = []\n",
    "for token in doc:\n",
    "    rows.append([token.text, token.lemma_])"
   ]
  },
  {
   "cell_type": "code",
   "execution_count": 19,
   "metadata": {},
   "outputs": [
    {
     "data": {
      "text/html": [
       "<div>\n",
       "<style scoped>\n",
       "    .dataframe tbody tr th:only-of-type {\n",
       "        vertical-align: middle;\n",
       "    }\n",
       "\n",
       "    .dataframe tbody tr th {\n",
       "        vertical-align: top;\n",
       "    }\n",
       "\n",
       "    .dataframe thead th {\n",
       "        text-align: right;\n",
       "    }\n",
       "</style>\n",
       "<table border=\"1\" class=\"dataframe\">\n",
       "  <thead>\n",
       "    <tr style=\"text-align: right;\">\n",
       "      <th></th>\n",
       "      <th>word</th>\n",
       "      <th>lemma</th>\n",
       "    </tr>\n",
       "  </thead>\n",
       "  <tbody>\n",
       "    <tr>\n",
       "      <th>0</th>\n",
       "      <td>This</td>\n",
       "      <td>this</td>\n",
       "    </tr>\n",
       "    <tr>\n",
       "      <th>1</th>\n",
       "      <td>is</td>\n",
       "      <td>be</td>\n",
       "    </tr>\n",
       "    <tr>\n",
       "      <th>2</th>\n",
       "      <td>Bruno</td>\n",
       "      <td>Bruno</td>\n",
       "    </tr>\n",
       "    <tr>\n",
       "      <th>3</th>\n",
       "      <td>,</td>\n",
       "      <td>,</td>\n",
       "    </tr>\n",
       "    <tr>\n",
       "      <th>4</th>\n",
       "      <td>and</td>\n",
       "      <td>and</td>\n",
       "    </tr>\n",
       "    <tr>\n",
       "      <th>5</th>\n",
       "      <td>he</td>\n",
       "      <td>-PRON-</td>\n",
       "    </tr>\n",
       "    <tr>\n",
       "      <th>6</th>\n",
       "      <td>’s</td>\n",
       "      <td>’</td>\n",
       "    </tr>\n",
       "    <tr>\n",
       "      <th>7</th>\n",
       "      <td>a</td>\n",
       "      <td>a</td>\n",
       "    </tr>\n",
       "    <tr>\n",
       "      <th>8</th>\n",
       "      <td>25-pound</td>\n",
       "      <td>25-pound</td>\n",
       "    </tr>\n",
       "    <tr>\n",
       "      <th>9</th>\n",
       "      <td>cat</td>\n",
       "      <td>cat</td>\n",
       "    </tr>\n",
       "  </tbody>\n",
       "</table>\n",
       "</div>"
      ],
      "text/plain": [
       "       word     lemma\n",
       "0      This      this\n",
       "1        is        be\n",
       "2     Bruno     Bruno\n",
       "3         ,         ,\n",
       "4       and       and\n",
       "5        he    -PRON-\n",
       "6        ’s         ’\n",
       "7         a         a\n",
       "8  25-pound  25-pound\n",
       "9       cat       cat"
      ]
     },
     "execution_count": 19,
     "metadata": {},
     "output_type": "execute_result"
    }
   ],
   "source": [
    "lemma_dataframe = pd.DataFrame(rows)\n",
    "lemma_dataframe.columns = ['word', 'lemma']\n",
    "lemma_dataframe.head(10)"
   ]
  },
  {
   "cell_type": "markdown",
   "metadata": {},
   "source": [
    "Compare a diferença entre as contagens agregadas com e sem as stopwords:"
   ]
  },
  {
   "cell_type": "code",
   "execution_count": 20,
   "metadata": {},
   "outputs": [
    {
     "data": {
      "text/plain": [
       "-PRON-      84\n",
       "\"           36\n",
       ",           34\n",
       ".           33\n",
       "be          28\n",
       "            ..\n",
       "weekend      1\n",
       "BuzzFeed     1\n",
       "live         1\n",
       "face         1\n",
       ":            1\n",
       "Name: lemma, Length: 243, dtype: int64"
      ]
     },
     "execution_count": 20,
     "metadata": {},
     "output_type": "execute_result"
    }
   ],
   "source": [
    "lemma_dataframe['lemma'].value_counts()"
   ]
  },
  {
   "cell_type": "code",
   "execution_count": 21,
   "metadata": {},
   "outputs": [
    {
     "data": {
      "text/plain": [
       ",             34\n",
       ".             33\n",
       "I             20\n",
       "\\n\\n          18\n",
       "the           18\n",
       "              ..\n",
       "toys           1\n",
       "live           1\n",
       "particular     1\n",
       "become         1\n",
       ":              1\n",
       "Name: word, Length: 288, dtype: int64"
      ]
     },
     "execution_count": 21,
     "metadata": {},
     "output_type": "execute_result"
    }
   ],
   "source": [
    "lemma_dataframe['word'].value_counts()"
   ]
  },
  {
   "cell_type": "markdown",
   "metadata": {},
   "source": [
    "### Bonus: Extraindo entidades\n",
    "\n",
    "Uma tarefa comum da PNL que pode ser útil é a extração de **entities**. Isso inclui pessoas, negócios, locais, organizações e datas. Para obter uma lista completa dos tipos de entidade que a spacy é capaz de reconhecer imediatamente, você pode consultar a [documentação](https://spacy.io/api/annotation#named-entities)."
   ]
  },
  {
   "cell_type": "code",
   "execution_count": null,
   "metadata": {},
   "outputs": [],
   "source": [
    "print(rows)"
   ]
  },
  {
   "cell_type": "code",
   "execution_count": null,
   "metadata": {},
   "outputs": [],
   "source": [
    "for ent in doc.ents:\n",
    "    print(ent.text, ent.label_)"
   ]
  },
  {
   "cell_type": "markdown",
   "metadata": {},
   "source": [
    "Você pode vê-los destacados no texto usando `displacy`."
   ]
  },
  {
   "cell_type": "code",
   "execution_count": 24,
   "metadata": {},
   "outputs": [
    {
     "data": {
      "text/html": [
       "<span class=\"tex2jax_ignore\"><div class=\"entities\" style=\"line-height: 2.5; direction: ltr\">This is \n",
       "<mark class=\"entity\" style=\"background: #7aecec; padding: 0.45em 0.6em; margin: 0 0.25em; line-height: 1; border-radius: 0.35em;\">\n",
       "    Bruno\n",
       "    <span style=\"font-size: 0.8em; font-weight: bold; line-height: 1; border-radius: 0.35em; text-transform: uppercase; vertical-align: middle; margin-left: 0.5rem\">ORG</span>\n",
       "</mark>\n",
       ", and he’s a 25-pound cat who’s currently up for adoption at \n",
       "<mark class=\"entity\" style=\"background: #ddd; padding: 0.45em 0.6em; margin: 0 0.25em; line-height: 1; border-radius: 0.35em;\">\n",
       "    the Wright-Way Rescue Adoption Center\n",
       "    <span style=\"font-size: 0.8em; font-weight: bold; line-height: 1; border-radius: 0.35em; text-transform: uppercase; vertical-align: middle; margin-left: 0.5rem\">FAC</span>\n",
       "</mark>\n",
       " in \n",
       "<mark class=\"entity\" style=\"background: #feca74; padding: 0.45em 0.6em; margin: 0 0.25em; line-height: 1; border-radius: 0.35em;\">\n",
       "    Morton Grove\n",
       "    <span style=\"font-size: 0.8em; font-weight: bold; line-height: 1; border-radius: 0.35em; text-transform: uppercase; vertical-align: middle; margin-left: 0.5rem\">GPE</span>\n",
       "</mark>\n",
       ", \n",
       "<mark class=\"entity\" style=\"background: #feca74; padding: 0.45em 0.6em; margin: 0 0.25em; line-height: 1; border-radius: 0.35em;\">\n",
       "    Illinois\n",
       "    <span style=\"font-size: 0.8em; font-weight: bold; line-height: 1; border-radius: 0.35em; text-transform: uppercase; vertical-align: middle; margin-left: 0.5rem\">GPE</span>\n",
       "</mark>\n",
       ". \n",
       "<mark class=\"entity\" style=\"background: #aa9cfc; padding: 0.45em 0.6em; margin: 0 0.25em; line-height: 1; border-radius: 0.35em;\">\n",
       "    Erin Ellison\n",
       "    <span style=\"font-size: 0.8em; font-weight: bold; line-height: 1; border-radius: 0.35em; text-transform: uppercase; vertical-align: middle; margin-left: 0.5rem\">PERSON</span>\n",
       "</mark>\n",
       ", who works at the shelter, told \n",
       "<mark class=\"entity\" style=\"background: #7aecec; padding: 0.45em 0.6em; margin: 0 0.25em; line-height: 1; border-radius: 0.35em;\">\n",
       "    BuzzFeed News\n",
       "    <span style=\"font-size: 0.8em; font-weight: bold; line-height: 1; border-radius: 0.35em; text-transform: uppercase; vertical-align: middle; margin-left: 0.5rem\">ORG</span>\n",
       "</mark>\n",
       " he's been in their care since \n",
       "<mark class=\"entity\" style=\"background: #bfe1d9; padding: 0.45em 0.6em; margin: 0 0.25em; line-height: 1; border-radius: 0.35em;\">\n",
       "    April 11\n",
       "    <span style=\"font-size: 0.8em; font-weight: bold; line-height: 1; border-radius: 0.35em; text-transform: uppercase; vertical-align: middle; margin-left: 0.5rem\">DATE</span>\n",
       "</mark>\n",
       " when he was given up for adoption because he &quot;wasn't meshing well with young kids in his home.&quot;</br></br>&quot;He was no doubt loved by his former family but maybe a little too much,&quot; she said. &quot;He needed a home that would love him enough to help him trim down.&quot;</br></br>The 7-year-old cat is polydactyl, meaning he has a few extra toes. He also has a strange habit of standing on his hind legs, the shelter said on \n",
       "<mark class=\"entity\" style=\"background: #7aecec; padding: 0.45em 0.6em; margin: 0 0.25em; line-height: 1; border-radius: 0.35em;\">\n",
       "    Facebook\n",
       "    <span style=\"font-size: 0.8em; font-weight: bold; line-height: 1; border-radius: 0.35em; text-transform: uppercase; vertical-align: middle; margin-left: 0.5rem\">ORG</span>\n",
       "</mark>\n",
       ".</br></br>“This usually happens when I want food. No, my foster parents did not teach me this. They are not sure how I learned,” the shelter said.</br></br>He’s now on a diet and “walking, playing, and doing tricks” so he can lose some weight.</br></br>\n",
       "<mark class=\"entity\" style=\"background: #aa9cfc; padding: 0.45em 0.6em; margin: 0 0.25em; line-height: 1; border-radius: 0.35em;\">\n",
       "    Bruno\n",
       "    <span style=\"font-size: 0.8em; font-weight: bold; line-height: 1; border-radius: 0.35em; text-transform: uppercase; vertical-align: middle; margin-left: 0.5rem\">PERSON</span>\n",
       "</mark>\n",
       " also apparently loves to be petted while he eats.</br></br>“It took my foster mom a little time to realize what I was meowing about, since she had just put food in my bowl,” the shelter said. “Soon she found out it’s because I want pets while I eats! I will still eat if you don’t pet me, but I will meow more and stare at you for a while.”</br></br>He also drinks a lot of water, but is very particular about it.</br></br>“I never drink the water in the kitchen where my food is. I only drink the water that was put in a completely different room,” the shelter wrote. “If you have a larger house, perhaps put multiple bowls of water around for me and be sure to give me fresh water \n",
       "<mark class=\"entity\" style=\"background: #bfe1d9; padding: 0.45em 0.6em; margin: 0 0.25em; line-height: 1; border-radius: 0.35em;\">\n",
       "    at least once day\n",
       "    <span style=\"font-size: 0.8em; font-weight: bold; line-height: 1; border-radius: 0.35em; text-transform: uppercase; vertical-align: middle; margin-left: 0.5rem\">DATE</span>\n",
       "</mark>\n",
       "?”</br></br>“Yes, I know I am EXTRA,” they wrote.</br></br>Besides getting pets while eating and staying hydrated, \n",
       "<mark class=\"entity\" style=\"background: #aa9cfc; padding: 0.45em 0.6em; margin: 0 0.25em; line-height: 1; border-radius: 0.35em;\">\n",
       "    Bruno\n",
       "    <span style=\"font-size: 0.8em; font-weight: bold; line-height: 1; border-radius: 0.35em; text-transform: uppercase; vertical-align: middle; margin-left: 0.5rem\">PERSON</span>\n",
       "</mark>\n",
       "’s hobbies are simple: lying down and, well, getting more pets.</br></br>“When I am in a normal home, most of \n",
       "<mark class=\"entity\" style=\"background: #bfe1d9; padding: 0.45em 0.6em; margin: 0 0.25em; line-height: 1; border-radius: 0.35em;\">\n",
       "    my day\n",
       "    <span style=\"font-size: 0.8em; font-weight: bold; line-height: 1; border-radius: 0.35em; text-transform: uppercase; vertical-align: middle; margin-left: 0.5rem\">DATE</span>\n",
       "</mark>\n",
       " is spent laying around, but never far from my family. I usually prefer to lay on the floor or right next to you, but occasionally I like to be a lap-cat,” the shelter said. “I also really like playing with my feather wand toy. Not so much my other toys or scratchers, though. I do like to sleep with my foster parents, but at the end of the bed so you still have room.”</br></br>He also likes “when you scratch the sides of my face and neck.”</br></br>“I like to be pet on the top of my head and spine only. I know my tummy is so tempting to touch, but I would prefer if you didn’t,” they said. “I may swat my hand and pretend to bite if you do.”</br></br>Video shows \n",
       "<mark class=\"entity\" style=\"background: #7aecec; padding: 0.45em 0.6em; margin: 0 0.25em; line-height: 1; border-radius: 0.35em;\">\n",
       "    Bruno\n",
       "    <span style=\"font-size: 0.8em; font-weight: bold; line-height: 1; border-radius: 0.35em; text-transform: uppercase; vertical-align: middle; margin-left: 0.5rem\">ORG</span>\n",
       "</mark>\n",
       " standing on his hind legs, purring like the furry boss that he is.</br></br>\n",
       "<mark class=\"entity\" style=\"background: #aa9cfc; padding: 0.45em 0.6em; margin: 0 0.25em; line-height: 1; border-radius: 0.35em;\">\n",
       "    Ellison\n",
       "    <span style=\"font-size: 0.8em; font-weight: bold; line-height: 1; border-radius: 0.35em; text-transform: uppercase; vertical-align: middle; margin-left: 0.5rem\">PERSON</span>\n",
       "</mark>\n",
       " said \n",
       "<mark class=\"entity\" style=\"background: #aa9cfc; padding: 0.45em 0.6em; margin: 0 0.25em; line-height: 1; border-radius: 0.35em;\">\n",
       "    Bruno\n",
       "    <span style=\"font-size: 0.8em; font-weight: bold; line-height: 1; border-radius: 0.35em; text-transform: uppercase; vertical-align: middle; margin-left: 0.5rem\">PERSON</span>\n",
       "</mark>\n",
       " has been making big gains (or, rather, losses) with his foster family.</br></br>&quot;The foster home understood the importance of \n",
       "<mark class=\"entity\" style=\"background: #aa9cfc; padding: 0.45em 0.6em; margin: 0 0.25em; line-height: 1; border-radius: 0.35em;\">\n",
       "    Bruno\n",
       "    <span style=\"font-size: 0.8em; font-weight: bold; line-height: 1; border-radius: 0.35em; text-transform: uppercase; vertical-align: middle; margin-left: 0.5rem\">PERSON</span>\n",
       "</mark>\n",
       " loosing weight if he was going to live to be an old man,&quot; she said. &quot;He has been thriving with his foster and has become a much more active cat.&quot;</br></br>&quot;He is an awesome boy who is going to do great with a family who can shower him with affection and continue his weight loss journey.&quot;</br></br>Potential adopters can stop by to meet him at the shelter starting \n",
       "<mark class=\"entity\" style=\"background: #bfe1d9; padding: 0.45em 0.6em; margin: 0 0.25em; line-height: 1; border-radius: 0.35em;\">\n",
       "    this weekend\n",
       "    <span style=\"font-size: 0.8em; font-weight: bold; line-height: 1; border-radius: 0.35em; text-transform: uppercase; vertical-align: middle; margin-left: 0.5rem\">DATE</span>\n",
       "</mark>\n",
       ".\n",
       "</div></span>"
      ],
      "text/plain": [
       "<IPython.core.display.HTML object>"
      ]
     },
     "metadata": {},
     "output_type": "display_data"
    }
   ],
   "source": [
    "from spacy import displacy\n",
    "displacy.render(doc, style = \"ent\",jupyter = True)"
   ]
  },
  {
   "cell_type": "code",
   "execution_count": null,
   "metadata": {},
   "outputs": [],
   "source": []
  },
  {
   "cell_type": "code",
   "execution_count": null,
   "metadata": {},
   "outputs": [],
   "source": []
  },
  {
   "cell_type": "markdown",
   "metadata": {},
   "source": [
    "### O mesmo em português"
   ]
  },
  {
   "cell_type": "code",
   "execution_count": 1,
   "metadata": {},
   "outputs": [],
   "source": [
    "import spacy\n",
    "import pandas as pd"
   ]
  },
  {
   "cell_type": "code",
   "execution_count": null,
   "metadata": {},
   "outputs": [],
   "source": []
  },
  {
   "cell_type": "code",
   "execution_count": 2,
   "metadata": {},
   "outputs": [],
   "source": [
    "nlp = spacy.load('pt_core_news_sm')"
   ]
  },
  {
   "cell_type": "code",
   "execution_count": null,
   "metadata": {},
   "outputs": [],
   "source": []
  },
  {
   "cell_type": "code",
   "execution_count": 4,
   "metadata": {},
   "outputs": [],
   "source": [
    "texto = \"Macunaíma, herói de nossa gente nasceu à margem do Uraricoera, em plena floresta amazônica. Descendia da tribo dos Tapanhumas e, desde a primeira infância, revelava-se como um sujeito preguiçoso. Ainda menino, busca prazeres amorosos com Sofará, mulher de seu irmão Jiguê, que só lhe havia dado pra comer as tripas de uma anta, caçada por Macunaíma numa armadilha esperta. Nas várias transas (brincadeiras) com Sofará, Macunaíma transforma-se num príncipe lindo, iniciando um processo constante de metamorfoses que irão ocorrer ao longo da narrativa: índio negro, vira branco, inseto, peixe e até mesmo um pato, dependendo das circunstâncias.\""
   ]
  },
  {
   "cell_type": "code",
   "execution_count": 5,
   "metadata": {},
   "outputs": [
    {
     "data": {
      "text/plain": [
       "642"
      ]
     },
     "execution_count": 5,
     "metadata": {},
     "output_type": "execute_result"
    }
   ],
   "source": [
    "len(texto)"
   ]
  },
  {
   "cell_type": "code",
   "execution_count": null,
   "metadata": {},
   "outputs": [],
   "source": []
  },
  {
   "cell_type": "code",
   "execution_count": 6,
   "metadata": {},
   "outputs": [],
   "source": [
    "doc = nlp(texto)"
   ]
  },
  {
   "cell_type": "code",
   "execution_count": null,
   "metadata": {},
   "outputs": [],
   "source": []
  },
  {
   "cell_type": "code",
   "execution_count": 7,
   "metadata": {},
   "outputs": [
    {
     "name": "stdout",
     "output_type": "stream",
     "text": [
      "Macunaíma\n",
      ",\n",
      "herói\n",
      "de\n",
      "nossa\n",
      "gente\n",
      "nasceu\n",
      "à\n",
      "margem\n",
      "do\n",
      "Uraricoera\n",
      ",\n",
      "em\n",
      "plena\n",
      "floresta\n",
      "amazônica\n",
      ".\n",
      "Descendia\n",
      "da\n",
      "tribo\n",
      "dos\n",
      "Tapanhumas\n",
      "e\n",
      ",\n",
      "desde\n",
      "a\n",
      "primeira\n",
      "infância\n",
      ",\n",
      "revelava-se\n",
      "como\n",
      "um\n",
      "sujeito\n",
      "preguiçoso\n",
      ".\n",
      "Ainda\n",
      "menino\n",
      ",\n",
      "busca\n",
      "prazeres\n",
      "amorosos\n",
      "com\n",
      "Sofará\n",
      ",\n",
      "mulher\n",
      "de\n",
      "seu\n",
      "irmão\n",
      "Jiguê\n",
      ",\n",
      "que\n",
      "só\n",
      "lhe\n",
      "havia\n",
      "dado\n",
      "pra\n",
      "comer\n",
      "as\n",
      "tripas\n",
      "de\n",
      "uma\n",
      "anta\n",
      ",\n",
      "caçada\n",
      "por\n",
      "Macunaíma\n",
      "numa\n",
      "armadilha\n",
      "esperta\n",
      ".\n",
      "Nas\n",
      "várias\n",
      "transas\n",
      "(\n",
      "brincadeiras\n",
      ")\n",
      "com\n",
      "Sofará\n",
      ",\n",
      "Macunaíma\n",
      "transforma-se\n",
      "num\n",
      "príncipe\n",
      "lindo\n",
      ",\n",
      "iniciando\n",
      "um\n",
      "processo\n",
      "constante\n",
      "de\n",
      "metamorfoses\n",
      "que\n",
      "irão\n",
      "ocorrer\n",
      "a\n",
      "o\n",
      "longo\n",
      "da\n",
      "narrativa\n",
      ":\n",
      "índio\n",
      "negro\n",
      ",\n",
      "vira\n",
      "branco\n",
      ",\n",
      "inseto\n",
      ",\n",
      "peixe\n",
      "e\n",
      "até\n",
      "mesmo\n",
      "um\n",
      "pato\n",
      ",\n",
      "dependendo\n",
      "das\n",
      "circunstâncias\n",
      ".\n"
     ]
    }
   ],
   "source": [
    "for token in doc:\n",
    "    print(token.text)"
   ]
  },
  {
   "cell_type": "code",
   "execution_count": null,
   "metadata": {},
   "outputs": [],
   "source": []
  },
  {
   "cell_type": "code",
   "execution_count": 8,
   "metadata": {},
   "outputs": [],
   "source": [
    "rows = []\n",
    "for token in doc:\n",
    "    rows.append(token.text)"
   ]
  },
  {
   "cell_type": "code",
   "execution_count": null,
   "metadata": {},
   "outputs": [],
   "source": []
  },
  {
   "cell_type": "code",
   "execution_count": 9,
   "metadata": {},
   "outputs": [
    {
     "name": "stdout",
     "output_type": "stream",
     "text": [
      "['Macunaíma', ',', 'herói', 'de', 'nossa', 'gente', 'nasceu', 'à', 'margem', 'do', 'Uraricoera', ',', 'em', 'plena', 'floresta', 'amazônica', '.', 'Descendia', 'da', 'tribo', 'dos', 'Tapanhumas', 'e', ',', 'desde', 'a', 'primeira', 'infância', ',', 'revelava-se', 'como', 'um', 'sujeito', 'preguiçoso', '.', 'Ainda', 'menino', ',', 'busca', 'prazeres', 'amorosos', 'com', 'Sofará', ',', 'mulher', 'de', 'seu', 'irmão', 'Jiguê', ',', 'que', 'só', 'lhe', 'havia', 'dado', 'pra', 'comer', 'as', 'tripas', 'de', 'uma', 'anta', ',', 'caçada', 'por', 'Macunaíma', 'numa', 'armadilha', 'esperta', '.', 'Nas', 'várias', 'transas', '(', 'brincadeiras', ')', 'com', 'Sofará', ',', 'Macunaíma', 'transforma-se', 'num', 'príncipe', 'lindo', ',', 'iniciando', 'um', 'processo', 'constante', 'de', 'metamorfoses', 'que', 'irão', 'ocorrer', 'a', 'o', 'longo', 'da', 'narrativa', ':', 'índio', 'negro', ',', 'vira', 'branco', ',', 'inseto', ',', 'peixe', 'e', 'até', 'mesmo', 'um', 'pato', ',', 'dependendo', 'das', 'circunstâncias', '.']\n"
     ]
    }
   ],
   "source": [
    "print(rows)"
   ]
  },
  {
   "cell_type": "code",
   "execution_count": null,
   "metadata": {},
   "outputs": [],
   "source": []
  },
  {
   "cell_type": "code",
   "execution_count": 10,
   "metadata": {},
   "outputs": [
    {
     "data": {
      "text/html": [
       "<div>\n",
       "<style scoped>\n",
       "    .dataframe tbody tr th:only-of-type {\n",
       "        vertical-align: middle;\n",
       "    }\n",
       "\n",
       "    .dataframe tbody tr th {\n",
       "        vertical-align: top;\n",
       "    }\n",
       "\n",
       "    .dataframe thead th {\n",
       "        text-align: right;\n",
       "    }\n",
       "</style>\n",
       "<table border=\"1\" class=\"dataframe\">\n",
       "  <thead>\n",
       "    <tr style=\"text-align: right;\">\n",
       "      <th></th>\n",
       "      <th>word</th>\n",
       "    </tr>\n",
       "  </thead>\n",
       "  <tbody>\n",
       "    <tr>\n",
       "      <th>0</th>\n",
       "      <td>Macunaíma</td>\n",
       "    </tr>\n",
       "    <tr>\n",
       "      <th>1</th>\n",
       "      <td>,</td>\n",
       "    </tr>\n",
       "    <tr>\n",
       "      <th>2</th>\n",
       "      <td>herói</td>\n",
       "    </tr>\n",
       "    <tr>\n",
       "      <th>3</th>\n",
       "      <td>de</td>\n",
       "    </tr>\n",
       "    <tr>\n",
       "      <th>4</th>\n",
       "      <td>nossa</td>\n",
       "    </tr>\n",
       "  </tbody>\n",
       "</table>\n",
       "</div>"
      ],
      "text/plain": [
       "        word\n",
       "0  Macunaíma\n",
       "1          ,\n",
       "2      herói\n",
       "3         de\n",
       "4      nossa"
      ]
     },
     "execution_count": 10,
     "metadata": {},
     "output_type": "execute_result"
    }
   ],
   "source": [
    "word_dataframe = pd.DataFrame(rows)\n",
    "word_dataframe.columns = ['word']\n",
    "word_dataframe.head()"
   ]
  },
  {
   "cell_type": "code",
   "execution_count": null,
   "metadata": {},
   "outputs": [],
   "source": []
  },
  {
   "cell_type": "code",
   "execution_count": 11,
   "metadata": {},
   "outputs": [
    {
     "data": {
      "text/html": [
       "<div>\n",
       "<style scoped>\n",
       "    .dataframe tbody tr th:only-of-type {\n",
       "        vertical-align: middle;\n",
       "    }\n",
       "\n",
       "    .dataframe tbody tr th {\n",
       "        vertical-align: top;\n",
       "    }\n",
       "\n",
       "    .dataframe thead th {\n",
       "        text-align: right;\n",
       "    }\n",
       "</style>\n",
       "<table border=\"1\" class=\"dataframe\">\n",
       "  <thead>\n",
       "    <tr style=\"text-align: right;\">\n",
       "      <th></th>\n",
       "      <th>index</th>\n",
       "      <th>word</th>\n",
       "    </tr>\n",
       "  </thead>\n",
       "  <tbody>\n",
       "    <tr>\n",
       "      <th>0</th>\n",
       "      <td>,</td>\n",
       "      <td>14</td>\n",
       "    </tr>\n",
       "    <tr>\n",
       "      <th>1</th>\n",
       "      <td>de</td>\n",
       "      <td>4</td>\n",
       "    </tr>\n",
       "    <tr>\n",
       "      <th>2</th>\n",
       "      <td>.</td>\n",
       "      <td>4</td>\n",
       "    </tr>\n",
       "    <tr>\n",
       "      <th>3</th>\n",
       "      <td>Macunaíma</td>\n",
       "      <td>3</td>\n",
       "    </tr>\n",
       "    <tr>\n",
       "      <th>4</th>\n",
       "      <td>um</td>\n",
       "      <td>3</td>\n",
       "    </tr>\n",
       "  </tbody>\n",
       "</table>\n",
       "</div>"
      ],
      "text/plain": [
       "       index  word\n",
       "0          ,    14\n",
       "1         de     4\n",
       "2          .     4\n",
       "3  Macunaíma     3\n",
       "4         um     3"
      ]
     },
     "execution_count": 11,
     "metadata": {},
     "output_type": "execute_result"
    }
   ],
   "source": [
    "word_count = word_dataframe['word'].value_counts().reset_index()\n",
    "word_count.head()"
   ]
  },
  {
   "cell_type": "code",
   "execution_count": 12,
   "metadata": {},
   "outputs": [
    {
     "data": {
      "text/html": [
       "<div>\n",
       "<style scoped>\n",
       "    .dataframe tbody tr th:only-of-type {\n",
       "        vertical-align: middle;\n",
       "    }\n",
       "\n",
       "    .dataframe tbody tr th {\n",
       "        vertical-align: top;\n",
       "    }\n",
       "\n",
       "    .dataframe thead th {\n",
       "        text-align: right;\n",
       "    }\n",
       "</style>\n",
       "<table border=\"1\" class=\"dataframe\">\n",
       "  <thead>\n",
       "    <tr style=\"text-align: right;\">\n",
       "      <th></th>\n",
       "      <th>word</th>\n",
       "    </tr>\n",
       "    <tr>\n",
       "      <th>word</th>\n",
       "      <th></th>\n",
       "    </tr>\n",
       "  </thead>\n",
       "  <tbody>\n",
       "    <tr>\n",
       "      <th>(</th>\n",
       "      <td>1</td>\n",
       "    </tr>\n",
       "    <tr>\n",
       "      <th>)</th>\n",
       "      <td>1</td>\n",
       "    </tr>\n",
       "    <tr>\n",
       "      <th>,</th>\n",
       "      <td>14</td>\n",
       "    </tr>\n",
       "    <tr>\n",
       "      <th>.</th>\n",
       "      <td>4</td>\n",
       "    </tr>\n",
       "    <tr>\n",
       "      <th>:</th>\n",
       "      <td>1</td>\n",
       "    </tr>\n",
       "  </tbody>\n",
       "</table>\n",
       "</div>"
      ],
      "text/plain": [
       "      word\n",
       "word      \n",
       "(        1\n",
       ")        1\n",
       ",       14\n",
       ".        4\n",
       ":        1"
      ]
     },
     "execution_count": 12,
     "metadata": {},
     "output_type": "execute_result"
    }
   ],
   "source": [
    "word_count_alt = word_dataframe.groupby('word').agg({\"word\":\"count\"})\n",
    "word_count_alt.head()"
   ]
  },
  {
   "cell_type": "code",
   "execution_count": 13,
   "metadata": {},
   "outputs": [],
   "source": [
    "word_count.to_csv('../output/macunaima_word_count.csv', index=False)\n",
    "word_count_alt.to_csv('../output/macunaima_word_count2.csv')"
   ]
  },
  {
   "cell_type": "code",
   "execution_count": null,
   "metadata": {},
   "outputs": [],
   "source": []
  },
  {
   "cell_type": "code",
   "execution_count": 14,
   "metadata": {},
   "outputs": [],
   "source": [
    "rows = []\n",
    "for token in doc:\n",
    "    rows.append([token.text, token.is_stop])"
   ]
  },
  {
   "cell_type": "code",
   "execution_count": null,
   "metadata": {},
   "outputs": [],
   "source": []
  },
  {
   "cell_type": "code",
   "execution_count": 15,
   "metadata": {},
   "outputs": [
    {
     "data": {
      "text/html": [
       "<div>\n",
       "<style scoped>\n",
       "    .dataframe tbody tr th:only-of-type {\n",
       "        vertical-align: middle;\n",
       "    }\n",
       "\n",
       "    .dataframe tbody tr th {\n",
       "        vertical-align: top;\n",
       "    }\n",
       "\n",
       "    .dataframe thead th {\n",
       "        text-align: right;\n",
       "    }\n",
       "</style>\n",
       "<table border=\"1\" class=\"dataframe\">\n",
       "  <thead>\n",
       "    <tr style=\"text-align: right;\">\n",
       "      <th></th>\n",
       "      <th>word</th>\n",
       "      <th>is_stop</th>\n",
       "    </tr>\n",
       "  </thead>\n",
       "  <tbody>\n",
       "    <tr>\n",
       "      <th>0</th>\n",
       "      <td>Macunaíma</td>\n",
       "      <td>False</td>\n",
       "    </tr>\n",
       "    <tr>\n",
       "      <th>1</th>\n",
       "      <td>,</td>\n",
       "      <td>False</td>\n",
       "    </tr>\n",
       "    <tr>\n",
       "      <th>2</th>\n",
       "      <td>herói</td>\n",
       "      <td>False</td>\n",
       "    </tr>\n",
       "    <tr>\n",
       "      <th>3</th>\n",
       "      <td>de</td>\n",
       "      <td>True</td>\n",
       "    </tr>\n",
       "    <tr>\n",
       "      <th>4</th>\n",
       "      <td>nossa</td>\n",
       "      <td>True</td>\n",
       "    </tr>\n",
       "  </tbody>\n",
       "</table>\n",
       "</div>"
      ],
      "text/plain": [
       "        word  is_stop\n",
       "0  Macunaíma    False\n",
       "1          ,    False\n",
       "2      herói    False\n",
       "3         de     True\n",
       "4      nossa     True"
      ]
     },
     "execution_count": 15,
     "metadata": {},
     "output_type": "execute_result"
    }
   ],
   "source": [
    "stop_dataframe = pd.DataFrame(rows)\n",
    "stop_dataframe.columns = ['word', 'is_stop']\n",
    "stop_dataframe.head()"
   ]
  },
  {
   "cell_type": "code",
   "execution_count": 16,
   "metadata": {},
   "outputs": [
    {
     "data": {
      "text/plain": [
       ",             14\n",
       ".              4\n",
       "Macunaíma      3\n",
       "e              2\n",
       "Sofará         2\n",
       "a              2\n",
       "iniciando      1\n",
       "(              1\n",
       "mulher         1\n",
       "dependendo     1\n",
       "Name: word, dtype: int64"
      ]
     },
     "execution_count": 16,
     "metadata": {},
     "output_type": "execute_result"
    }
   ],
   "source": [
    "no_stop = stop_dataframe[~stop_dataframe['is_stop']]\n",
    "\n",
    "no_stop['word'].value_counts().head(10)"
   ]
  },
  {
   "cell_type": "code",
   "execution_count": 17,
   "metadata": {},
   "outputs": [
    {
     "data": {
      "text/plain": [
       ",            14\n",
       "de            4\n",
       ".             4\n",
       "Macunaíma     3\n",
       "um            3\n",
       "a             2\n",
       "que           2\n",
       "Sofará        2\n",
       "da            2\n",
       "e             2\n",
       "Name: word, dtype: int64"
      ]
     },
     "execution_count": 17,
     "metadata": {},
     "output_type": "execute_result"
    }
   ],
   "source": [
    "stop_dataframe['word'].value_counts().head(10)"
   ]
  },
  {
   "cell_type": "code",
   "execution_count": null,
   "metadata": {},
   "outputs": [],
   "source": []
  },
  {
   "cell_type": "code",
   "execution_count": 18,
   "metadata": {},
   "outputs": [],
   "source": [
    "rows = []\n",
    "for token in doc:\n",
    "    rows.append([token.text, token.lemma_])"
   ]
  },
  {
   "cell_type": "code",
   "execution_count": 19,
   "metadata": {},
   "outputs": [
    {
     "data": {
      "text/html": [
       "<div>\n",
       "<style scoped>\n",
       "    .dataframe tbody tr th:only-of-type {\n",
       "        vertical-align: middle;\n",
       "    }\n",
       "\n",
       "    .dataframe tbody tr th {\n",
       "        vertical-align: top;\n",
       "    }\n",
       "\n",
       "    .dataframe thead th {\n",
       "        text-align: right;\n",
       "    }\n",
       "</style>\n",
       "<table border=\"1\" class=\"dataframe\">\n",
       "  <thead>\n",
       "    <tr style=\"text-align: right;\">\n",
       "      <th></th>\n",
       "      <th>word</th>\n",
       "      <th>lemma</th>\n",
       "    </tr>\n",
       "  </thead>\n",
       "  <tbody>\n",
       "    <tr>\n",
       "      <th>0</th>\n",
       "      <td>Macunaíma</td>\n",
       "      <td>Macunaíma</td>\n",
       "    </tr>\n",
       "    <tr>\n",
       "      <th>1</th>\n",
       "      <td>,</td>\n",
       "      <td>,</td>\n",
       "    </tr>\n",
       "    <tr>\n",
       "      <th>2</th>\n",
       "      <td>herói</td>\n",
       "      <td>herói</td>\n",
       "    </tr>\n",
       "    <tr>\n",
       "      <th>3</th>\n",
       "      <td>de</td>\n",
       "      <td>de</td>\n",
       "    </tr>\n",
       "    <tr>\n",
       "      <th>4</th>\n",
       "      <td>nossa</td>\n",
       "      <td>nosso</td>\n",
       "    </tr>\n",
       "    <tr>\n",
       "      <th>5</th>\n",
       "      <td>gente</td>\n",
       "      <td>gente</td>\n",
       "    </tr>\n",
       "    <tr>\n",
       "      <th>6</th>\n",
       "      <td>nasceu</td>\n",
       "      <td>nascer</td>\n",
       "    </tr>\n",
       "    <tr>\n",
       "      <th>7</th>\n",
       "      <td>à</td>\n",
       "      <td>à</td>\n",
       "    </tr>\n",
       "    <tr>\n",
       "      <th>8</th>\n",
       "      <td>margem</td>\n",
       "      <td>margem</td>\n",
       "    </tr>\n",
       "    <tr>\n",
       "      <th>9</th>\n",
       "      <td>do</td>\n",
       "      <td>do</td>\n",
       "    </tr>\n",
       "  </tbody>\n",
       "</table>\n",
       "</div>"
      ],
      "text/plain": [
       "        word      lemma\n",
       "0  Macunaíma  Macunaíma\n",
       "1          ,          ,\n",
       "2      herói      herói\n",
       "3         de         de\n",
       "4      nossa      nosso\n",
       "5      gente      gente\n",
       "6     nasceu     nascer\n",
       "7          à          à\n",
       "8     margem     margem\n",
       "9         do         do"
      ]
     },
     "execution_count": 19,
     "metadata": {},
     "output_type": "execute_result"
    }
   ],
   "source": [
    "lemma_dataframe = pd.DataFrame(rows)\n",
    "lemma_dataframe.columns = ['word', 'lemma']\n",
    "lemma_dataframe.head(10)"
   ]
  },
  {
   "cell_type": "code",
   "execution_count": 20,
   "metadata": {},
   "outputs": [
    {
     "data": {
      "text/plain": [
       ",              14\n",
       "de              4\n",
       "o               4\n",
       ".               4\n",
       "um              3\n",
       "               ..\n",
       "florestar       1\n",
       "primeiro        1\n",
       "metamorfose     1\n",
       "dar             1\n",
       "haver           1\n",
       "Name: lemma, Length: 87, dtype: int64"
      ]
     },
     "execution_count": 20,
     "metadata": {},
     "output_type": "execute_result"
    }
   ],
   "source": [
    "lemma_dataframe['lemma'].value_counts()"
   ]
  },
  {
   "cell_type": "code",
   "execution_count": 21,
   "metadata": {},
   "outputs": [
    {
     "data": {
      "text/plain": [
       ",            14\n",
       "de            4\n",
       ".             4\n",
       "Macunaíma     3\n",
       "um            3\n",
       "             ..\n",
       "as            1\n",
       "herói         1\n",
       "processo      1\n",
       "longo         1\n",
       "príncipe      1\n",
       "Name: word, Length: 90, dtype: int64"
      ]
     },
     "execution_count": 21,
     "metadata": {},
     "output_type": "execute_result"
    }
   ],
   "source": [
    "lemma_dataframe['word'].value_counts()"
   ]
  },
  {
   "cell_type": "code",
   "execution_count": null,
   "metadata": {},
   "outputs": [],
   "source": []
  },
  {
   "cell_type": "code",
   "execution_count": 22,
   "metadata": {},
   "outputs": [
    {
     "name": "stdout",
     "output_type": "stream",
     "text": [
      "[['Macunaíma', 'Macunaíma'], [',', ','], ['herói', 'herói'], ['de', 'de'], ['nossa', 'nosso'], ['gente', 'gente'], ['nasceu', 'nascer'], ['à', 'à'], ['margem', 'margem'], ['do', 'do'], ['Uraricoera', 'Uraricoera'], [',', ','], ['em', 'em'], ['plena', 'pleno'], ['floresta', 'florestar'], ['amazônica', 'amazônica'], ['.', '.'], ['Descendia', 'Descendia'], ['da', 'da'], ['tribo', 'tribo'], ['dos', 'dos'], ['Tapanhumas', 'Tapanhumas'], ['e', 'e'], [',', ','], ['desde', 'desde'], ['a', 'o'], ['primeira', 'primeiro'], ['infância', 'infância'], [',', ','], ['revelava-se', 'revelava-se'], ['como', 'comer'], ['um', 'um'], ['sujeito', 'sujeitar'], ['preguiçoso', 'preguiçoso'], ['.', '.'], ['Ainda', 'Ainda'], ['menino', 'menino'], [',', ','], ['busca', 'buscar'], ['prazeres', 'prazer'], ['amorosos', 'amoroso'], ['com', 'com'], ['Sofará', 'Sofará'], [',', ','], ['mulher', 'mulher'], ['de', 'de'], ['seu', 'seu'], ['irmão', 'irmão'], ['Jiguê', 'Jiguê'], [',', ','], ['que', 'que'], ['só', 'só'], ['lhe', 'lhe'], ['havia', 'haver'], ['dado', 'dar'], ['pra', 'pra'], ['comer', 'comer'], ['as', 'o'], ['tripas', 'tripa'], ['de', 'de'], ['uma', 'umar'], ['anta', 'antar'], [',', ','], ['caçada', 'caçar'], ['por', 'por'], ['Macunaíma', 'Macunaíma'], ['numa', 'numa'], ['armadilha', 'armadilhar'], ['esperta', 'esperto'], ['.', '.'], ['Nas', 'Nas'], ['várias', 'vários'], ['transas', 'transir'], ['(', '('], ['brincadeiras', 'brincadeira'], [')', ')'], ['com', 'com'], ['Sofará', 'Sofará'], [',', ','], ['Macunaíma', 'Macunaíma'], ['transforma-se', 'transforma-se'], ['num', 'num'], ['príncipe', 'príncipe'], ['lindo', 'lindar'], [',', ','], ['iniciando', 'iniciar'], ['um', 'um'], ['processo', 'processar'], ['constante', 'constante'], ['de', 'de'], ['metamorfoses', 'metamorfose'], ['que', 'que'], ['irão', 'ir'], ['ocorrer', 'ocorrer'], ['a', 'o'], ['o', 'o'], ['longo', 'longo'], ['da', 'da'], ['narrativa', 'narrativo'], [':', ':'], ['índio', 'índio'], ['negro', 'negro'], [',', ','], ['vira', 'virar'], ['branco', 'branco'], [',', ','], ['inseto', 'inseto'], [',', ','], ['peixe', 'peixe'], ['e', 'e'], ['até', 'até'], ['mesmo', 'mesmo'], ['um', 'um'], ['pato', 'pato'], [',', ','], ['dependendo', 'depender'], ['das', 'das'], ['circunstâncias', 'circunstância'], ['.', '.']]\n"
     ]
    }
   ],
   "source": [
    "print(rows)"
   ]
  },
  {
   "cell_type": "code",
   "execution_count": 23,
   "metadata": {},
   "outputs": [
    {
     "name": "stdout",
     "output_type": "stream",
     "text": [
      "Macunaíma ORG\n",
      "Uraricoera LOC\n",
      "Tapanhumas LOC\n",
      "Sofará LOC\n",
      "Jiguê PER\n",
      "Macunaíma PER\n",
      "Sofará LOC\n",
      "Macunaíma LOC\n"
     ]
    }
   ],
   "source": [
    "for ent in doc.ents:\n",
    "    print(ent.text, ent.label_)"
   ]
  },
  {
   "cell_type": "code",
   "execution_count": 24,
   "metadata": {},
   "outputs": [
    {
     "data": {
      "text/html": [
       "<span class=\"tex2jax_ignore\"><div class=\"entities\" style=\"line-height: 2.5; direction: ltr\">\n",
       "<mark class=\"entity\" style=\"background: #7aecec; padding: 0.45em 0.6em; margin: 0 0.25em; line-height: 1; border-radius: 0.35em;\">\n",
       "    Macunaíma\n",
       "    <span style=\"font-size: 0.8em; font-weight: bold; line-height: 1; border-radius: 0.35em; text-transform: uppercase; vertical-align: middle; margin-left: 0.5rem\">ORG</span>\n",
       "</mark>\n",
       ", herói de nossa gente nasceu à margem do \n",
       "<mark class=\"entity\" style=\"background: #ff9561; padding: 0.45em 0.6em; margin: 0 0.25em; line-height: 1; border-radius: 0.35em;\">\n",
       "    Uraricoera\n",
       "    <span style=\"font-size: 0.8em; font-weight: bold; line-height: 1; border-radius: 0.35em; text-transform: uppercase; vertical-align: middle; margin-left: 0.5rem\">LOC</span>\n",
       "</mark>\n",
       ", em plena floresta amazônica. Descendia da tribo dos \n",
       "<mark class=\"entity\" style=\"background: #ff9561; padding: 0.45em 0.6em; margin: 0 0.25em; line-height: 1; border-radius: 0.35em;\">\n",
       "    Tapanhumas\n",
       "    <span style=\"font-size: 0.8em; font-weight: bold; line-height: 1; border-radius: 0.35em; text-transform: uppercase; vertical-align: middle; margin-left: 0.5rem\">LOC</span>\n",
       "</mark>\n",
       " e, desde a primeira infância, revelava-se como um sujeito preguiçoso. Ainda menino, busca prazeres amorosos com \n",
       "<mark class=\"entity\" style=\"background: #ff9561; padding: 0.45em 0.6em; margin: 0 0.25em; line-height: 1; border-radius: 0.35em;\">\n",
       "    Sofará\n",
       "    <span style=\"font-size: 0.8em; font-weight: bold; line-height: 1; border-radius: 0.35em; text-transform: uppercase; vertical-align: middle; margin-left: 0.5rem\">LOC</span>\n",
       "</mark>\n",
       ", mulher de seu irmão \n",
       "<mark class=\"entity\" style=\"background: #ddd; padding: 0.45em 0.6em; margin: 0 0.25em; line-height: 1; border-radius: 0.35em;\">\n",
       "    Jiguê\n",
       "    <span style=\"font-size: 0.8em; font-weight: bold; line-height: 1; border-radius: 0.35em; text-transform: uppercase; vertical-align: middle; margin-left: 0.5rem\">PER</span>\n",
       "</mark>\n",
       ", que só lhe havia dado pra comer as tripas de uma anta, caçada por \n",
       "<mark class=\"entity\" style=\"background: #ddd; padding: 0.45em 0.6em; margin: 0 0.25em; line-height: 1; border-radius: 0.35em;\">\n",
       "    Macunaíma\n",
       "    <span style=\"font-size: 0.8em; font-weight: bold; line-height: 1; border-radius: 0.35em; text-transform: uppercase; vertical-align: middle; margin-left: 0.5rem\">PER</span>\n",
       "</mark>\n",
       " numa armadilha esperta. Nas várias transas (brincadeiras) com \n",
       "<mark class=\"entity\" style=\"background: #ff9561; padding: 0.45em 0.6em; margin: 0 0.25em; line-height: 1; border-radius: 0.35em;\">\n",
       "    Sofará\n",
       "    <span style=\"font-size: 0.8em; font-weight: bold; line-height: 1; border-radius: 0.35em; text-transform: uppercase; vertical-align: middle; margin-left: 0.5rem\">LOC</span>\n",
       "</mark>\n",
       ", \n",
       "<mark class=\"entity\" style=\"background: #ff9561; padding: 0.45em 0.6em; margin: 0 0.25em; line-height: 1; border-radius: 0.35em;\">\n",
       "    Macunaíma\n",
       "    <span style=\"font-size: 0.8em; font-weight: bold; line-height: 1; border-radius: 0.35em; text-transform: uppercase; vertical-align: middle; margin-left: 0.5rem\">LOC</span>\n",
       "</mark>\n",
       " transforma-se num príncipe lindo, iniciando um processo constante de metamorfoses que irão ocorrer ao longo da narrativa: índio negro, vira branco, inseto, peixe e até mesmo um pato, dependendo das circunstâncias.</div></span>"
      ],
      "text/plain": [
       "<IPython.core.display.HTML object>"
      ]
     },
     "metadata": {},
     "output_type": "display_data"
    }
   ],
   "source": [
    "from spacy import displacy\n",
    "displacy.render(doc, style = \"ent\",jupyter = True)"
   ]
  },
  {
   "cell_type": "code",
   "execution_count": 25,
   "metadata": {},
   "outputs": [],
   "source": [
    "# Observação - a detectação de entidades tem falhas em português, principalmente em um texto mais antigo como este"
   ]
  },
  {
   "cell_type": "code",
   "execution_count": null,
   "metadata": {},
   "outputs": [],
   "source": []
  }
 ],
 "metadata": {
  "kernelspec": {
   "display_name": "Python 3",
   "language": "python",
   "name": "python3"
  },
  "language_info": {
   "codemirror_mode": {
    "name": "ipython",
    "version": 3
   },
   "file_extension": ".py",
   "mimetype": "text/x-python",
   "name": "python",
   "nbconvert_exporter": "python",
   "pygments_lexer": "ipython3",
   "version": "3.6.9"
  }
 },
 "nbformat": 4,
 "nbformat_minor": 4
}
